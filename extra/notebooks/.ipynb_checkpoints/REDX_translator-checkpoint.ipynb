{
 "cells": [
  {
   "cell_type": "code",
   "execution_count": 1,
   "metadata": {},
   "outputs": [
    {
     "ename": "ModuleNotFoundError",
     "evalue": "No module named 'Bio'",
     "output_type": "error",
     "traceback": [
      "\u001b[0;31m---------------------------------------------------------------------------\u001b[0m",
      "\u001b[0;31mModuleNotFoundError\u001b[0m                       Traceback (most recent call last)",
      "\u001b[0;32m<ipython-input-1-e7af0fc3cb35>\u001b[0m in \u001b[0;36m<module>\u001b[0;34m\u001b[0m\n\u001b[1;32m     12\u001b[0m \u001b[0;32mimport\u001b[0m \u001b[0mcopy\u001b[0m\u001b[0;34m\u001b[0m\u001b[0;34m\u001b[0m\u001b[0m\n\u001b[1;32m     13\u001b[0m \u001b[0;31m# import user defined python3 modules\u001b[0m\u001b[0;34m\u001b[0m\u001b[0;34m\u001b[0m\u001b[0;34m\u001b[0m\u001b[0m\n\u001b[0;32m---> 14\u001b[0;31m \u001b[0;32mfrom\u001b[0m \u001b[0msrc\u001b[0m\u001b[0;34m.\u001b[0m\u001b[0mcodonTable\u001b[0m \u001b[0;32mimport\u001b[0m \u001b[0mcodonTable\u001b[0m\u001b[0;34m\u001b[0m\u001b[0;34m\u001b[0m\u001b[0m\n\u001b[0m\u001b[1;32m     15\u001b[0m \u001b[0;32mfrom\u001b[0m \u001b[0msrc\u001b[0m\u001b[0;34m.\u001b[0m\u001b[0mcodonUtils\u001b[0m \u001b[0;32mimport\u001b[0m \u001b[0mutils\u001b[0m\u001b[0;34m\u001b[0m\u001b[0;34m\u001b[0m\u001b[0m\n\u001b[1;32m     16\u001b[0m \u001b[0;32mfrom\u001b[0m \u001b[0msrc\u001b[0m\u001b[0;34m.\u001b[0m\u001b[0mthunderflask\u001b[0m \u001b[0;32mimport\u001b[0m \u001b[0mthunderflask\u001b[0m\u001b[0;34m\u001b[0m\u001b[0;34m\u001b[0m\u001b[0m\n",
      "\u001b[0;32m~/Dropbox/Lab/ATD/codon-tables/notebooks/src/codonTable.py\u001b[0m in \u001b[0;36m<module>\u001b[0;34m\u001b[0m\n\u001b[1;32m      8\u001b[0m \u001b[0;32mfrom\u001b[0m \u001b[0mmpl_toolkits\u001b[0m\u001b[0;34m.\u001b[0m\u001b[0maxes_grid1\u001b[0m \u001b[0;32mimport\u001b[0m \u001b[0mmake_axes_locatable\u001b[0m\u001b[0;34m\u001b[0m\u001b[0;34m\u001b[0m\u001b[0m\n\u001b[1;32m      9\u001b[0m \u001b[0;32mimport\u001b[0m \u001b[0mnetworkx\u001b[0m \u001b[0;32mas\u001b[0m \u001b[0mnx\u001b[0m\u001b[0;34m\u001b[0m\u001b[0;34m\u001b[0m\u001b[0m\n\u001b[0;32m---> 10\u001b[0;31m \u001b[0;32mfrom\u001b[0m \u001b[0msrc\u001b[0m\u001b[0;34m.\u001b[0m\u001b[0mcodonUtils\u001b[0m \u001b[0;32mimport\u001b[0m \u001b[0mutils\u001b[0m\u001b[0;34m\u001b[0m\u001b[0;34m\u001b[0m\u001b[0m\n\u001b[0m\u001b[1;32m     11\u001b[0m \u001b[0;34m\u001b[0m\u001b[0m\n\u001b[1;32m     12\u001b[0m \u001b[0;32mclass\u001b[0m \u001b[0mcodonTable\u001b[0m\u001b[0;34m:\u001b[0m\u001b[0;34m\u001b[0m\u001b[0;34m\u001b[0m\u001b[0m\n",
      "\u001b[0;32m~/Dropbox/Lab/ATD/codon-tables/notebooks/src/codonUtils.py\u001b[0m in \u001b[0;36m<module>\u001b[0;34m\u001b[0m\n\u001b[1;32m      4\u001b[0m \u001b[0;32mimport\u001b[0m \u001b[0mmatplotlib\u001b[0m\u001b[0;34m.\u001b[0m\u001b[0mpyplot\u001b[0m \u001b[0;32mas\u001b[0m \u001b[0mplt\u001b[0m\u001b[0;34m\u001b[0m\u001b[0;34m\u001b[0m\u001b[0m\n\u001b[1;32m      5\u001b[0m \u001b[0;32mfrom\u001b[0m \u001b[0mmpl_toolkits\u001b[0m\u001b[0;34m.\u001b[0m\u001b[0mmplot3d\u001b[0m \u001b[0;32mimport\u001b[0m \u001b[0mAxes3D\u001b[0m\u001b[0;34m\u001b[0m\u001b[0;34m\u001b[0m\u001b[0m\n\u001b[0;32m----> 6\u001b[0;31m \u001b[0;32mimport\u001b[0m \u001b[0mBio\u001b[0m\u001b[0;34m.\u001b[0m\u001b[0mData\u001b[0m\u001b[0;34m.\u001b[0m\u001b[0mCodonTable\u001b[0m\u001b[0;34m\u001b[0m\u001b[0;34m\u001b[0m\u001b[0m\n\u001b[0m\u001b[1;32m      7\u001b[0m \u001b[0;32mimport\u001b[0m \u001b[0mnetworkx\u001b[0m \u001b[0;32mas\u001b[0m \u001b[0mnx\u001b[0m\u001b[0;34m\u001b[0m\u001b[0;34m\u001b[0m\u001b[0m\n\u001b[1;32m      8\u001b[0m \u001b[0;32mfrom\u001b[0m \u001b[0mcollections\u001b[0m \u001b[0;32mimport\u001b[0m \u001b[0mdeque\u001b[0m\u001b[0;34m\u001b[0m\u001b[0;34m\u001b[0m\u001b[0m\n",
      "\u001b[0;31mModuleNotFoundError\u001b[0m: No module named 'Bio'"
     ]
    }
   ],
   "source": [
    "# import established python3 modules\n",
    "import numpy as np\n",
    "import pandas as pd\n",
    "import matplotlib as mpl\n",
    "import matplotlib.pyplot as plt\n",
    "import matplotlib.pylab as pl\n",
    "import matplotlib.colors as colors\n",
    "import matplotlib.animation as animation\n",
    "import seaborn as sns\n",
    "from tqdm import tqdm_notebook as tqdm\n",
    "import pickle\n",
    "import copy\n",
    "# import user defined python3 modules\n",
    "from src.codonTable import codonTable\n",
    "from src.codonUtils import utils\n",
    "from src.thunderflask import thunderflask\n",
    "from src.bacteria import strain"
   ]
  },
  {
   "cell_type": "code",
   "execution_count": 12,
   "metadata": {},
   "outputs": [],
   "source": [
    "# define physical RED15 code\n",
    "red15 = {\n",
    "    codon:'*' for codon in utils.tripletCodons\n",
    "}\n",
    "red15['UUC'] = 'F'\n",
    "red15['CUA'] = 'L'\n",
    "red15['AUG'] = 'M'\n",
    "red15['GUC'] = 'V'\n",
    "red15['UCA'] = 'S'\n",
    "red15['CCG'] = 'P'\n",
    "red15['ACC'] = 'T'\n",
    "red15['GCA'] = 'A'\n",
    "red15['UAC'] = 'Y'\n",
    "red15['CAG'] = 'Q'\n",
    "red15['AAA'] = 'K'\n",
    "red15['GAC'] = 'D'\n",
    "red15['UGG'] = 'W'\n",
    "red15['CGU'] = 'R'\n",
    "red15['GGA'] = 'G'\n",
    "RED15 = codonTable(red15)\n",
    "# RED15.codonTable"
   ]
  },
  {
   "cell_type": "code",
   "execution_count": 16,
   "metadata": {},
   "outputs": [],
   "source": [
    "# define physical RED20 code\n",
    "red20 = copy.deepcopy(red15)\n",
    "red20['AUC'] = 'I'\n",
    "red20['CAC'] = 'H'\n",
    "red20['AAC'] = 'N'\n",
    "red20['GAA'] = 'E'\n",
    "red20['UGC'] = 'C'\n",
    "\n",
    "RED20 = codonTable(red20)\n",
    "# RED20.codonTable"
   ]
  },
  {
   "cell_type": "code",
   "execution_count": 17,
   "metadata": {},
   "outputs": [
    {
     "name": "stdout",
     "output_type": "stream",
     "text": [
      "sfGFP RED20 compatible DNA sequence\n",
      "-----------------------------------\n",
      "AUGUCAAAAGGAGAAGAACUAUUCACCGGAGUCGUCCCGAUCCUAGUCGAACUAGACGGAGACGUCAACGGACACAAAUUCUCAGUCCGUGGAGAAGGAGAAGGAGACGCAACCAACGGAAAACUAACCCUAAAAUUCAUCUGCACCACCGGAAAACUACCGGUCCCGUGGCCGACCCUAGUCACCACCCUAACCUACGGAGUCCAGUGCUUCUCACGUUACCCGGACCACAUGAAACGUCACGACUUCUUCAAAUCAGCAAUGCCGGAAGGAUACGUCCAGGAACGUACCAUCUCAUUCAAAGACGACGGAACCUACAAAACCCGUGCAGAAGUCAAAUUCGAAGGAGACACCCUAGUCAACCGUAUCGAACUAAAAGGAAUCGACUUCAAAGAAGACGGAAACAUCCUAGGACACAAACUAGAAUACAACUUCAACUCACACAACGUCUACAUCACCGCAGACAAACAGAAAAACGGAAUCAAAGCAAACUUCAAAAUCCGUCACAACGUCGAAGACGGAUCAGUCCAGCUAGCAGACCACUACCAGCAGAACACCCCGAUCGGAGACGGACCGGUCCUACUACCGGACAACCACUACCUAUCAACCCAGUCAGUCCUAUCAAAAGACCCGAACGAAAAACGUGACCACAUGGUCCUACUAGAAUUCGUCACCGCAGCAGGAAUCACCCACGGAAUGGACGAACUAUACAAAUGA\n"
     ]
    }
   ],
   "source": [
    "# define sfGFP AA sequence\n",
    "sfGFP_aa_seq = 'MSKGEELFTGVVPILVELDGDVNGHKFSVRGEGEGDATNGKLTLKFICTTGKLPVPWPTLVTTLTYGVQCFSRYPDHMKRHDFFKSAMPEGYVQERTISFKDDGTYKTRAEVKFEGDTLVNRIELKGIDFKEDGNILGHKLEYNFNSHNVYITADKQKNGIKANFKIRHNVEDGSVQLADHYQQNTPIGDGPVLLPDNHYLSTQSVLSKDPNEKRDHMVLLEFVTAAGITHGMDELYK*'\n",
    "# create translation\n",
    "sfGFP_nt_seq = RED20.reverseTranslate(sfGFP_aa_seq)\n",
    "print('sfGFP RED20 compatible DNA sequence')\n",
    "print('-----------------------------------')\n",
    "print('{0}'.format(sfGFP_nt_seq))"
   ]
  }
 ],
 "metadata": {
  "kernelspec": {
   "display_name": "Python 3",
   "language": "python",
   "name": "python3"
  },
  "language_info": {
   "codemirror_mode": {
    "name": "ipython",
    "version": 3
   },
   "file_extension": ".py",
   "mimetype": "text/x-python",
   "name": "python",
   "nbconvert_exporter": "python",
   "pygments_lexer": "ipython3",
   "version": "3.7.1"
  }
 },
 "nbformat": 4,
 "nbformat_minor": 2
}
