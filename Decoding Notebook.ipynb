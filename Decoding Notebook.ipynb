{
 "cells": [
  {
   "cell_type": "markdown",
   "metadata": {},
   "source": [
    "## Codon Table Class\n",
    "\n",
    "This class instantiates codon tables with arbitrary, user defined decoding strategies."
   ]
  },
  {
   "cell_type": "code",
   "execution_count": 2,
   "metadata": {
    "collapsed": false
   },
   "outputs": [],
   "source": [
    "# import necessary modules\n",
    "import numpy as np\n",
    "import matplotlib.pyplot as plt\n",
    "from mpl_toolkits.mplot3d import Axes3D\n",
    "import Bio.Data.CodonTable\n",
    "import networkx as nx\n",
    "from codonUtils import utils\n",
    "from codonoptimizer import MonteCarlo\n",
    "from codonTable import codonTable\n",
    "import random\n",
    "import pickle"
   ]
  },
  {
   "cell_type": "markdown",
   "metadata": {},
   "source": [
    "## Standard Code and Biological Dictionaries\n",
    "\n",
    "The exact ordering of amino acids and stop codons in order to represent the Standard Code in a pythonic way (e.g. defined by iterating over zipped elements) pulled from NCBI (https://www.ncbi.nlm.nih.gov/Taxonomy/Utils/wprintgc.cgi#SG1)."
   ]
  },
  {
   "cell_type": "markdown",
   "metadata": {},
   "source": [
    "## Codon Utilities Module\n",
    "\n",
    "This module was written to wrap a set of generally useful definitions and methods. These include \n",
    "- the Standard Codon table\n",
    "- the set of NTPs and amino acids\n",
    "- some physicochemical scales (Polar Requirement Scale and Kyte Doolittle Hydropathy)\n",
    "- codon table block structures\n",
    "- methods to count amino acid degeneracy\n",
    "- methods to find adjacency of both codons and residues in a network\n",
    "- methods to interconvert Codon Table structure to/from representations in block structure form\n",
    "- method to check the validity of a codon table against a specified block structure\n",
    "\n",
    "The module is fully documented, as in calling help(codonUtils.utils) will return full documentation of associated attributes and methods."
   ]
  },
  {
   "cell_type": "code",
   "execution_count": null,
   "metadata": {
    "collapsed": false
   },
   "outputs": [],
   "source": [
    "help(utils)"
   ]
  },
  {
   "cell_type": "markdown",
   "metadata": {
    "collapsed": true
   },
   "source": [
    "## Visualization Object for Codon Tables\n",
    "\n",
    "This class is designed to take dictionaries representing triplet codon tables and visualizing them in 3D space. For simplicity, the default visualization metric used is the 1982 hydrophobicity scale developed by Kyte and Doolittle (1)."
   ]
  },
  {
   "cell_type": "code",
   "execution_count": null,
   "metadata": {
    "collapsed": false
   },
   "outputs": [],
   "source": [
    "help(codonTable)"
   ]
  },
  {
   "cell_type": "code",
   "execution_count": null,
   "metadata": {
    "collapsed": false
   },
   "outputs": [],
   "source": [
    "# Demonstrate CodonTable visualization\n",
    "%matplotlib inline\n",
    "test = codonTable()\n",
    "fig = test.plot3d('Standard Codon Table: Node Color=Hydropathy', )\n",
    "fig2 = test.plotGraph('Standard Codon Table: Node Color=Residue Degeneracy', node_val='count')"
   ]
  },
  {
   "cell_type": "markdown",
   "metadata": {},
   "source": [
    "## Monte Carlo Simulation Class\n",
    "This is the class for handling walking through Codon Table space to optimize for a user defined cost function. Defaults to self.cost() if not given. Any uses defined cost function should accept a Python dict representing the codon table (C --> AA) as an input and output a float to be maximized over (must set self.run() to minimization otherwise). Optionally should accept codonTable class as input. Uses the Polar Requirement Scale (3) as a measure of codon similarity."
   ]
  },
  {
   "cell_type": "code",
   "execution_count": 37,
   "metadata": {
    "collapsed": false
   },
   "outputs": [
    {
     "name": "stdout",
     "output_type": "stream",
     "text": [
      "Help on class MonteCarlo in module codonoptimizer:\n",
      "\n",
      "class MonteCarlo(builtins.object)\n",
      " |  MonteCarlo: A class designed to optimize a codon table given an\n",
      " |  arbitrary objective function to minimize/maximize\n",
      " |  \n",
      " |  Methods defined here:\n",
      " |  \n",
      " |  GDA(self, dW=None, W=0, W_stop=inf, maxIter=1000, preserveBlock=False, preserveStop=False)\n",
      " |      The Great Deluge Algorithm for optimizing an objective function over\n",
      " |      codon table space\n",
      " |      \n",
      " |      Parameters\n",
      " |      ----------\n",
      " |      - float dW=None: represents the rate of change (rain flux) of min\n",
      " |          allowable energy (water level); if None, initialized to 1% of\n",
      " |          cost(self.table)\n",
      " |      - float W=0: represents the initial minimal acceptable energy level\n",
      " |          (water level); defaults to 0\n",
      " |      - float W_stop=inf: represents the maximum allowable water level; stops\n",
      " |          algorithm when W > W_stop; defaults to an infinte value\n",
      " |      - int maxIter=1000: represents the maximum number of iterations to\n",
      " |          perform; defaults to 1000\n",
      " |      - bool preserveBlock=False: a bool that tells the function whether or\n",
      " |          not to preserve block structure when shuffling the table\n",
      " |      - bool preserveStop=False: a bool that tells the function whether or not\n",
      " |          to shuffle blocks encoding for STOP\n",
      " |      Returns\n",
      " |      -------\n",
      " |      - dict table: a python dict representing an optimized codon table\n",
      " |      - np.array Ws: a numpy array representing water level vs iteration\n",
      " |      - np.array Es: a numpy array representing cost(table) vs iteration\n",
      " |  \n",
      " |  __init__(self, table={'CGU': 'R', 'UUC': 'F', 'CAA': 'Q', 'AUC': 'I', 'CGG': 'R', 'UCC': 'S', 'AGG': 'R', 'UAC': 'Y', 'CAG': 'Q', 'AGU': 'S', 'GGU': 'G', 'GCA': 'A', 'AGA': 'R', 'UAU': 'Y', 'UUA': 'L', 'CUC': 'L', 'GCU': 'A', 'GGG': 'G', 'GUU': 'V', 'AAA': 'K', 'ACA': 'T', 'GUG': 'V', 'GAU': 'D', 'GAG': 'E', 'CCG': 'P', 'UUU': 'F', 'CAC': 'H', 'GAC': 'D', 'UCG': 'S', 'GAA': 'E', 'CGC': 'R', 'ACG': 'T', 'UCU': 'S', 'AAU': 'N', 'CUG': 'L', 'UGG': 'W', 'GUA': 'V', 'UGC': 'C', 'UCA': 'S', 'GCC': 'A', 'UAG': '*', 'CCC': 'P', 'UAA': '*', 'AUG': 'M', 'GUC': 'V', 'UGU': 'C', 'AGC': 'S', 'AUA': 'I', 'CGA': 'R', 'ACU': 'T', 'GGA': 'G', 'AAG': 'K', 'UUG': 'L', 'CAU': 'H', 'GCG': 'A', 'UGA': '*', 'CCU': 'P', 'AAC': 'N', 'CUA': 'L', 'AUU': 'I', 'CUU': 'L', 'ACC': 'T', 'GGC': 'G', 'CCA': 'P'}, costfxn=None, wobble_rule='standard')\n",
      " |      the init function for the MonteCarlo class. Optionally allows the\n",
      " |      user to specify the starting codon table, associated objective\n",
      " |      function, and which wobble_rules should be followed. Default values are\n",
      " |      supplied if the user does not specify them (i.e. Standard Code, 47\n",
      " |      block wobble rule)\n",
      " |      \n",
      " |      Parameters\n",
      " |      ----------\n",
      " |      - dict table = utils.standardTable: a python dict representing the\n",
      " |          codon table. Also optionally accepts a codonTable object.\n",
      " |      - func costfxn = None: a function that takes a python dict as an\n",
      " |          input and outputs a cost associated with that table. If no\n",
      " |          funciton is supplied, defaults to maxMutMinVar.\n",
      " |      - str wobble_rule = 'standard': a string telling the simulator which\n",
      " |          wobble rules to follow for accepting new tablesi\n",
      " |      \n",
      " |          Acceptable inputs:\n",
      " |          - 'standard' : 48 blocks, 2 stop blocks\n",
      " |          - 'preserveBlock' : maintain same block structure as standard\n",
      " |              table\n",
      " |          - 'unrestricted' : 63 open blocks, at least 0 of every AA and\n",
      " |              stop.\n",
      " |      \n",
      " |      Returns\n",
      " |      -------\n",
      " |      MonteCarlo obj: returns an instance of the MonteCarlo object\n",
      " |  \n",
      " |  run(self, objective=None, algorithm=None)\n",
      " |      MonteCarlo.run: the method used to handle searching through codon space using a defined search algorithm and objective function.\n",
      " |      \n",
      " |      Parameters\n",
      " |      ----------\n",
      " |      \n",
      " |      Returns\n",
      " |      -------\n",
      " |  \n",
      " |  tableShuffle(self, table, preserveBlock=False, preserveStop=False)\n",
      " |      Takes a codon table as an input and shuffles it to produce a new,\n",
      " |          similar table in order to traverse table space.\n",
      " |      \n",
      " |      Parameters\n",
      " |      ----------\n",
      " |      - dict table: a python dict representing a codon table starting point\n",
      " |      - bool preserveBlock=False: a bool that tells the function whether or\n",
      " |          not to preserve block structure when shuffling the table\n",
      " |      - bool preserveStop=False: a bool that tells the function whether or not\n",
      " |          to shuffle blocks encoding for STOP\n",
      " |      Returns\n",
      " |      -------\n",
      " |      dict newTable: a python dict representing the next codon table\n",
      " |  \n",
      " |  ----------------------------------------------------------------------\n",
      " |  Static methods defined here:\n",
      " |  \n",
      " |  maxMutMinVar(table)\n",
      " |      MonteCarlo.maxMutMinVar: the default cost function for class.\n",
      " |      Implements a version of the cost function used by Novozhilov et al.\n",
      " |      2007, but optimizes for maximizing mutability while minimizing variance\n",
      " |      per mutation\n",
      " |      \n",
      " |      Parameters\n",
      " |      ----------\n",
      " |      dict table: a python dictionary representing the codon table to evaluate\n",
      " |      \n",
      " |      Returns\n",
      " |      -------\n",
      " |      float metric: the absolute number score of the given table\n",
      " |  \n",
      " |  ----------------------------------------------------------------------\n",
      " |  Data descriptors defined here:\n",
      " |  \n",
      " |  __dict__\n",
      " |      dictionary for instance variables (if defined)\n",
      " |  \n",
      " |  __weakref__\n",
      " |      list of weak references to the object (if defined)\n",
      "\n"
     ]
    }
   ],
   "source": [
    "help(MonteCarlo)"
   ]
  },
  {
   "cell_type": "code",
   "execution_count": 7,
   "metadata": {
    "collapsed": false
   },
   "outputs": [
    {
     "name": "stdout",
     "output_type": "stream",
     "text": [
      "44.5 µs ± 1.11 µs per loop (mean ± std. dev. of 7 runs, 10000 loops each)\n"
     ]
    }
   ],
   "source": [
    "sim = MonteCarlo()\n",
    "%timeit sim.tableShuffle(sim.table)"
   ]
  },
  {
   "cell_type": "code",
   "execution_count": 5,
   "metadata": {
    "collapsed": false
   },
   "outputs": [
    {
     "data": {
      "text/plain": [
       "0"
      ]
     },
     "execution_count": 5,
     "metadata": {},
     "output_type": "execute_result"
    }
   ],
   "source": [
    "sim = MonteCarlo()\n",
    "count = 0\n",
    "for i in range(1000):\n",
    "    table = sim.tableShuffle(sim.table)\n",
    "    if not utils.checkBlock(table, sim.blockStruct):\n",
    "        count+=1\n",
    "count"
   ]
  },
  {
   "cell_type": "code",
   "execution_count": 18,
   "metadata": {
    "collapsed": false
   },
   "outputs": [
    {
     "data": {
      "text/plain": [
       "array([ 0.,  1.,  2.,  3.,  4.,  4.,  4.,  4.,  4.,  4.,  4.,  4.,  4.,\n",
       "        4.,  4.,  4.,  4.,  4.,  4.,  4.,  4.,  4.,  4.,  4.,  4.,  4.,\n",
       "        4.,  4.,  4.,  4.,  4.,  4.,  4.,  4.,  4.,  4.,  4.,  4.,  4.,\n",
       "        4.,  4.,  4.,  4.,  4.,  4.,  4.,  4.,  4.,  4.,  4.,  4.,  4.,\n",
       "        4.,  4.,  4.,  4.,  4.,  4.,  4.,  4.,  4.,  4.,  4.,  4.,  4.,\n",
       "        4.,  4.,  4.,  4.,  4.,  4.,  4.,  4.,  4.,  4.,  4.,  4.,  4.,\n",
       "        4.,  4.,  4.,  4.,  4.,  4.,  4.,  4.,  4.,  4.,  4.,  4.,  4.,\n",
       "        4.,  4.,  4.,  4.,  4.,  4.,  4.,  4.,  4.])"
      ]
     },
     "execution_count": 18,
     "metadata": {},
     "output_type": "execute_result"
    }
   ],
   "source": [
    "x = np.zeros(100)\n",
    "x[0:5] = np.arange(0,5)\n",
    "x[5:] = x[4]\n",
    "x"
   ]
  },
  {
   "cell_type": "code",
   "execution_count": null,
   "metadata": {
    "collapsed": false
   },
   "outputs": [],
   "source": [
    "# Debugging\n",
    "sim = MonteCarlo()\n",
    "table = sim.table\n",
    "counts = sim.resiCounts\n",
    "connect = sim.connectivity\n",
    "blockStruct = utils.naturalBlock\n",
    "blocks = utils.tableToBlocks(table, blockStruct)\n",
    "okay = set()\n",
    "for AA, count in counts.items():\n",
    "    if count > 1:\n",
    "        okay.add(AA)\n",
    "\n",
    "blocks"
   ]
  },
  {
   "cell_type": "markdown",
   "metadata": {},
   "source": [
    "## References\n",
    "1. Kyte, J. & Doolittle, R. F. A simple method for displaying the hydropathic character of a protein. J. Mol. Biol. 157, 105–132 (1982).\n",
    "1. Novozhilov, A. S., Wolf, Y. I. & Koonin, E. V. Evolution of the genetic code: partial optimization of a random code for robustness to translation error in a rugged fitness landscape. Biol. Direct 2, 24 (2007).\n",
    "1. Woese, C. R., Dugre, D. H., Saxinger, W. C. & Dugre, S. A. The Molecular Basis for the Genetic Code. Proc. Natl. Acad. Sci. 55, 966–974 (1966)."
   ]
  }
 ],
 "metadata": {
  "kernelspec": {
   "display_name": "Python 3",
   "language": "python",
   "name": "python3"
  },
  "language_info": {
   "codemirror_mode": {
    "name": "ipython",
    "version": 3
   },
   "file_extension": ".py",
   "mimetype": "text/x-python",
   "name": "python",
   "nbconvert_exporter": "python",
   "pygments_lexer": "ipython3",
   "version": "3.5.3"
  }
 },
 "nbformat": 4,
 "nbformat_minor": 2
}
