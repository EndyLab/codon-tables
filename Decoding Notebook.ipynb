{
 "cells": [
  {
   "cell_type": "markdown",
   "metadata": {},
   "source": [
    "## Codon Table Class\n",
    "\n",
    "This class instantiates codon tables with arbitrary, user defined decoding strategies."
   ]
  },
  {
   "cell_type": "code",
   "execution_count": 1,
   "metadata": {
    "collapsed": false
   },
   "outputs": [],
   "source": [
    "# import necessary modules\n",
    "import numpy as np\n",
    "import pandas as pd\n",
    "import matplotlib.pyplot as plt\n",
    "from mpl_toolkits.mplot3d import Axes3D\n",
    "import Bio.Data.CodonTable\n",
    "from Bio.SubsMat import MatrixInfo as submats\n",
    "import networkx as nx\n",
    "from codonUtils import utils\n",
    "from codonOptimizer import tableOptimizer\n",
    "from codonTable import codonTable\n",
    "import bct\n",
    "import random\n",
    "import pickle"
   ]
  },
  {
   "cell_type": "markdown",
   "metadata": {},
   "source": [
    "## Standard Code and Biological Dictionaries\n",
    "\n",
    "The exact ordering of amino acids and stop codons in order to represent the Standard Code in a pythonic way (e.g. defined by iterating over zipped elements) pulled from NCBI (https://www.ncbi.nlm.nih.gov/Taxonomy/Utils/wprintgc.cgi#SG1)."
   ]
  },
  {
   "cell_type": "markdown",
   "metadata": {},
   "source": [
    "## Codon Utilities Module\n",
    "\n",
    "This module was written to wrap a set of generally useful definitions and methods. These include \n",
    "- the Standard Codon table\n",
    "- the set of NTPs and amino acids\n",
    "- some physicochemical scales (Polar Requirement Scale and Kyte Doolittle Hydropathy)\n",
    "- codon table block structures\n",
    "- methods to count amino acid degeneracy\n",
    "- methods to find adjacency of both codons and residues in a network\n",
    "- methods to interconvert Codon Table structure to/from representations in block structure form\n",
    "- method to check the validity of a codon table against a specified block structure\n",
    "\n",
    "The module is fully documented, as in calling help(codonUtils.utils) will return full documentation of associated attributes and methods."
   ]
  },
  {
   "cell_type": "code",
   "execution_count": null,
   "metadata": {
    "collapsed": false
   },
   "outputs": [],
   "source": [
    "help(utils)"
   ]
  },
  {
   "cell_type": "markdown",
   "metadata": {
    "collapsed": true
   },
   "source": [
    "## Visualization Object for Codon Tables\n",
    "\n",
    "This class is designed to take dictionaries representing triplet codon tables and visualizing them in 3D space. For simplicity, the default visualization metric used is the 1982 hydrophobicity scale developed by Kyte and Doolittle (1)."
   ]
  },
  {
   "cell_type": "code",
   "execution_count": null,
   "metadata": {
    "collapsed": false
   },
   "outputs": [],
   "source": [
    "help(codonTable)"
   ]
  },
  {
   "cell_type": "code",
   "execution_count": null,
   "metadata": {
    "collapsed": false
   },
   "outputs": [],
   "source": [
    "# Demonstrate CodonTable visualization\n",
    "%matplotlib inline\n",
    "test = codonTable()\n",
    "fig = test.plot3d('Standard Codon Table: Node Color=Hydropathy', )\n",
    "fig2 = test.plotGraph('Standard Codon Table: Node Color=Residue Degeneracy', node_val='count')"
   ]
  },
  {
   "cell_type": "markdown",
   "metadata": {},
   "source": [
    "## Monte Carlo Simulation Class\n",
    "This is the class for handling walking through Codon Table space to optimize for a user defined cost function. Defaults to self.cost() if not given. Any uses defined cost function should accept a Python dict representing the codon table (C --> AA) as an input and output a float to be maximized over. Optionally accept codonTable class as input. Uses the Polar Requirement Scale (3) as a measure of codon similarity."
   ]
  },
  {
   "cell_type": "code",
   "execution_count": null,
   "metadata": {
    "collapsed": false
   },
   "outputs": [],
   "source": [
    "help(tableOptimizer)"
   ]
  },
  {
   "cell_type": "code",
   "execution_count": null,
   "metadata": {
    "collapsed": false
   },
   "outputs": [],
   "source": [
    "# Demonstrate MonteCarlo simulation\n",
    "sim = tableOptimizer()\n",
    "optimizedTable, Ws, Es = sim.GDA()\n",
    "optimizedTable = codonTable(optimizedTable)\n",
    "standardTable = codonTable()\n",
    "\n",
    "# Compare tables\n",
    "fig1 = standardTable.plot3d('Standard Code: Node Color=Hydropathy')\n",
    "fig2 = standardTable.plotGraph('Standard Code: Node Color=Residue Degeneracy', nodeColor='kd', nodeSize='count')\n",
    "fig3 = optimizedTable.plot3d('Optimized Table: Node Color=Hydropathy')\n",
    "fig4 = optimizedTable.plotGraph('Optimzied Table: Node Color=Residue Degeneracy', nodeColor='kd', nodeSize='count')"
   ]
  },
  {
   "cell_type": "markdown",
   "metadata": {},
   "source": [
    "## References\n",
    "1. Kyte, J. & Doolittle, R. F. A simple method for displaying the hydropathic character of a protein. J. Mol. Biol. 157, 105–132 (1982).\n",
    "1. Novozhilov, A. S., Wolf, Y. I. & Koonin, E. V. Evolution of the genetic code: partial optimization of a random code for robustness to translation error in a rugged fitness landscape. Biol. Direct 2, 24 (2007).\n",
    "1. Woese, C. R., Dugre, D. H., Saxinger, W. C. & Dugre, S. A. The Molecular Basis for the Genetic Code. Proc. Natl. Acad. Sci. 55, 966–974 (1966)."
   ]
  }
 ],
 "metadata": {
  "kernelspec": {
   "display_name": "Python 3",
   "language": "python",
   "name": "python3"
  },
  "language_info": {
   "codemirror_mode": {
    "name": "ipython",
    "version": 3
   },
   "file_extension": ".py",
   "mimetype": "text/x-python",
   "name": "python",
   "nbconvert_exporter": "python",
   "pygments_lexer": "ipython3",
   "version": "3.5.3"
  }
 },
 "nbformat": 4,
 "nbformat_minor": 2
}
