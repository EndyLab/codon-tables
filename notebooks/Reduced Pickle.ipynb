{
 "cells": [
  {
   "cell_type": "code",
   "execution_count": 2,
   "metadata": {
    "collapsed": true
   },
   "outputs": [],
   "source": [
    "import copy\n",
    "from codonTable import codonTable\n",
    "from codonUtils import utils\n",
    "import pickle"
   ]
  },
  {
   "cell_type": "code",
   "execution_count": 15,
   "metadata": {
    "collapsed": true
   },
   "outputs": [],
   "source": [
    "filename='reductiondict.pickle'\n",
    "sc = copy.deepcopy(utils.standardTable)\n",
    "sc_notdeep = utils.standardTable\n",
    "sc_alsonotdeep = utils.standardTable"
   ]
  },
  {
   "cell_type": "code",
   "execution_count": 16,
   "metadata": {
    "collapsed": true
   },
   "outputs": [],
   "source": [
    "newTable = sc\n",
    "newTable['UUU'] = '*'\n",
    "newTable['UUA'] = '*'\n",
    "newTable['UUG'] = '*'\n",
    "newTable['UCU'] = '*'\n",
    "newTable['UCC'] = '*'\n",
    "newTable['UCG'] = '*'\n",
    "newTable['UAC'] = '*'\n",
    "newTable['UGC'] = '*'\n",
    "newTable['CUA'] = '*'\n",
    "newTable['CUC'] = '*'\n",
    "newTable['CUG'] = '*'\n",
    "newTable['CCU'] = '*'\n",
    "newTable['CCC'] = '*'\n",
    "newTable['CCA'] = '*'\n",
    "newTable['CAA'] = '*'\n",
    "newTable['CAC'] = '*'\n",
    "newTable['CGC'] = '*'\n",
    "newTable['CGU'] = '*'\n",
    "newTable['CGG'] = '*'\n",
    "newTable['AUU'] = '*'\n",
    "newTable['AUC'] = '*'\n",
    "newTable['ACC'] = '*'\n",
    "newTable['ACG'] = '*'\n",
    "newTable['ACA'] = '*'\n",
    "newTable['AAC'] = '*'\n",
    "newTable['AAA'] = '*'\n",
    "newTable['AGA'] = '*'\n",
    "newTable['AGG'] = '*'\n",
    "newTable['AGC'] = '*'\n",
    "newTable['AGU'] = '*'\n",
    "newTable['GUC'] = '*'\n",
    "newTable['GUA'] = '*'\n",
    "newTable['GUU'] = '*'\n",
    "newTable['GCC'] = '*'\n",
    "newTable['GCG'] = '*'\n",
    "newTable['GCA'] = '*'\n",
    "newTable['GAU'] = '*'\n",
    "newTable['GAG'] = '*'\n",
    "newTable['GGG'] = '*'\n",
    "newTable['GGU'] = '*'\n",
    "newTable['GGC'] = '*'"
   ]
  },
  {
   "cell_type": "code",
   "execution_count": 18,
   "metadata": {
    "collapsed": true
   },
   "outputs": [],
   "source": [
    "with open(filename, 'wb') as handle:\n",
    "    pickle.dump(sc, handle)"
   ]
  }
 ],
 "metadata": {
  "kernelspec": {
   "display_name": "Python 3",
   "language": "python",
   "name": "python3"
  },
  "language_info": {
   "codemirror_mode": {
    "name": "ipython",
    "version": 3
   },
   "file_extension": ".py",
   "mimetype": "text/x-python",
   "name": "python",
   "nbconvert_exporter": "python",
   "pygments_lexer": "ipython3",
   "version": "3.6.3"
  }
 },
 "nbformat": 4,
 "nbformat_minor": 2
}
