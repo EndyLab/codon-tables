{
 "cells": [
  {
   "cell_type": "code",
   "execution_count": 1,
   "metadata": {
    "collapsed": true
   },
   "outputs": [],
   "source": [
    "import numpy as np\n",
    "from scipy.interpolate import interp1d as interp\n",
    "import pandas as pd\n",
    "import seaborn as sns\n",
    "import matplotlib.pyplot as plt\n",
    "from tqdm import tqdm_notebook\n",
    "from src.thunderflask import thunderflask\n",
    "from src.bacteria import strain\n",
    "from src.ffgen import ffgen\n",
    "from src.ffgen_isaac import ffgen\n",
    "from src.redGen import reductionist\n",
    "from src.codonTable import codonTable\n",
    "from src.codonUtils import utils\n",
    "from src.bacteria import strain\n",
    "import pickle\n",
    "from src.codonOptimizer import tableOptimizer\n",
    "from queue import Queue as queue\n",
    "from random import choice\n",
    "from matplotlib.colors import LinearSegmentedColormap as LSC\n",
    "from mpl_toolkits.mplot3d import Axes3D\n",
    "from mpl_toolkits.axes_grid1 import make_axes_locatable\n",
    "import cProfile\n",
    "import copy\n",
    "import random"
   ]
  },
  {
   "cell_type": "code",
   "execution_count": 2,
   "metadata": {
    "collapsed": true
   },
   "outputs": [],
   "source": [
    "with open('res/ReductionistTable20AA.pickle', 'rb') as handle:\n",
    "    red20 = pickle.load(handle)"
   ]
  },
  {
   "cell_type": "code",
   "execution_count": 3,
   "metadata": {},
   "outputs": [],
   "source": [
    "with open('res/ff16table_manuscript.pickle', 'rb') as handle:\n",
    "    ff16 = pickle.load(handle)"
   ]
  },
  {
   "cell_type": "code",
   "execution_count": 4,
   "metadata": {
    "collapsed": true
   },
   "outputs": [],
   "source": [
    "ff16Table = codonTable(ff16)"
   ]
  },
  {
   "cell_type": "code",
   "execution_count": 5,
   "metadata": {
    "collapsed": true
   },
   "outputs": [],
   "source": [
    "with open('res/ff17_table.pickle', 'rb') as handle:\n",
    "    ff17 = pickle.load(handle)"
   ]
  },
  {
   "cell_type": "code",
   "execution_count": 6,
   "metadata": {
    "collapsed": true
   },
   "outputs": [],
   "source": [
    "ff17Table = codonTable(ff17)"
   ]
  },
  {
   "cell_type": "code",
   "execution_count": 7,
   "metadata": {
    "collapsed": true
   },
   "outputs": [],
   "source": [
    "with open('res/ff18_table.pickle', 'rb') as handle:\n",
    "    ff18 = pickle.load(handle)"
   ]
  },
  {
   "cell_type": "code",
   "execution_count": 8,
   "metadata": {
    "collapsed": true
   },
   "outputs": [],
   "source": [
    "ff18Table = codonTable(ff18)"
   ]
  },
  {
   "cell_type": "code",
   "execution_count": 9,
   "metadata": {
    "collapsed": true
   },
   "outputs": [],
   "source": [
    "with open('res/ff19_table.pickle', 'rb') as handle:\n",
    "    ff19 = pickle.load(handle)"
   ]
  },
  {
   "cell_type": "code",
   "execution_count": 10,
   "metadata": {
    "collapsed": true
   },
   "outputs": [],
   "source": [
    "ff19Table = codonTable(ff19)"
   ]
  },
  {
   "cell_type": "code",
   "execution_count": 11,
   "metadata": {
    "collapsed": true
   },
   "outputs": [],
   "source": [
    "with open('res/ff20_table.pickle', 'rb') as handle:\n",
    "    ff20 = pickle.load(handle)"
   ]
  },
  {
   "cell_type": "code",
   "execution_count": 12,
   "metadata": {
    "collapsed": true
   },
   "outputs": [],
   "source": [
    "ff20Table = codonTable(ff20)"
   ]
  },
  {
   "cell_type": "code",
   "execution_count": 13,
   "metadata": {},
   "outputs": [
    {
     "data": {
      "application/vnd.jupyter.widget-view+json": {
       "model_id": "716962a762a0462db7911f08863189cc",
       "version_major": 2,
       "version_minor": 0
      },
      "text/plain": [
       "A Jupyter Widget"
      ]
     },
     "metadata": {},
     "output_type": "display_data"
    },
    {
     "name": "stdout",
     "output_type": "stream",
     "text": [
      "\n"
     ]
    },
    {
     "name": "stderr",
     "output_type": "stream",
     "text": [
      "/anaconda3/lib/python3.6/site-packages/seaborn/timeseries.py:183: UserWarning: The tsplot function is deprecated and will be removed or replaced (in a substantially altered version) in a future release.\n",
      "  warnings.warn(msg, UserWarning)\n"
     ]
    },
    {
     "data": {
      "image/png": "[encoded data removed]",
      "text/plain": [
       "<matplotlib.figure.Figure at 0x113eae8d0>"
      ]
     },
     "metadata": {},
     "output_type": "display_data"
    },
    {
     "name": "stdout",
     "output_type": "stream",
     "text": [
      "done\n"
     ]
    }
   ],
   "source": [
    "# initialize some variables\n",
    "T_curr = 0\n",
    "mut_param = [1,2]\n",
    "dt = 0.1\n",
    "N_sims = 100\n",
    "T_sim = 1000\n",
    "t_extra = 5\n",
    "date = '3-6'\n",
    "code = 'Reductionist Code 20AA'\n",
    "filepath = 'res/manuscript_traces'\n",
    "filename = '{0}_{1}_favg_traces_T={2}_N={3}_b={4}_l={5}.pickle'.format(date,\n",
    "                                                                       code,\n",
    "                                                                       T_sim,\n",
    "                                                                       N_sims,\n",
    "                                                                      mut_param[0],\n",
    "                                                                      mut_param[1]) \n",
    "# initialize list of dictionaries of arrays (i know, it's too much) \n",
    "dataframes = []\n",
    "newtimes = np.linspace(0, T_sim, int((T_sim)/dt))\n",
    "# run N simulations\n",
    "for i in tqdm_notebook(range(N_sims), desc='Simulation Number: '):\n",
    "    LUCA = strain(N_pop=1e6, table=red20, fitness=0, mu=2e-5)\n",
    "    sim = thunderflask(LUCA)\n",
    "    sim.simulate(T_sim+t_extra, dt, T_curr, mut_param, show_progress=False)\n",
    "    t = sim.f_avgtrace['timepoints']\n",
    "    f_avg = sim.f_avgtrace['f_avg']\n",
    "    interp_fxn = interp(t, f_avg)\n",
    "    newf = interp_fxn(newtimes)\n",
    "    df = pd.DataFrame({\n",
    "        'time' : newtimes, \n",
    "        'value' : newf, \n",
    "        'sim' : [i for j in range(len(newf))],\n",
    "        'code' : [code for j in range(len(newf))]\n",
    "    })\n",
    "    dataframes.append(df)\n",
    "# package data into pandas dataframe\n",
    "df_sc = pd.concat(dataframes)\n",
    "# pickle results\n",
    "with open('{0}/{1}'.format(filepath, filename), 'wb') as handle:\n",
    "    pickle.dump(df_sc, handle)\n",
    "# plot results\n",
    "ax = sns.tsplot(data=df_sc, time='time', value='value', unit='sim')\n",
    "plt.title('{0}: <F> vs time ({1} Replicates)'.format(code, N_sims))\n",
    "plt.xlabel('Time (in generations)')\n",
    "plt.ylabel('Mean Fitness')\n",
    "plt.show()\n",
    "print('done')"
   ]
  },
  {
   "cell_type": "code",
   "execution_count": 14,
   "metadata": {},
   "outputs": [
    {
     "data": {
      "application/vnd.jupyter.widget-view+json": {
       "model_id": "687dc8c89a584e3ab7b270250fa34577",
       "version_major": 2,
       "version_minor": 0
      },
      "text/plain": [
       "A Jupyter Widget"
      ]
     },
     "metadata": {},
     "output_type": "display_data"
    },
    {
     "name": "stdout",
     "output_type": "stream",
     "text": [
      "\n"
     ]
    },
    {
     "name": "stderr",
     "output_type": "stream",
     "text": [
      "/anaconda3/lib/python3.6/site-packages/seaborn/timeseries.py:183: UserWarning: The tsplot function is deprecated and will be removed or replaced (in a substantially altered version) in a future release.\n",
      "  warnings.warn(msg, UserWarning)\n"
     ]
    },
    {
     "data": {
      "image/png": "[encoded data removed]",
      "text/plain": [
       "<matplotlib.figure.Figure at 0x113eae7f0>"
      ]
     },
     "metadata": {},
     "output_type": "display_data"
    },
    {
     "name": "stdout",
     "output_type": "stream",
     "text": [
      "done\n"
     ]
    }
   ],
   "source": [
    "# initialize some variables\n",
    "T_curr = 0\n",
    "mut_param = [1,2]\n",
    "dt = 0.1\n",
    "N_sims = 100\n",
    "T_sim = 1000\n",
    "t_extra = 5\n",
    "date = '3-6'\n",
    "code = 'FF Code 16AA'\n",
    "filepath = 'res/manuscript_traces'\n",
    "filename = '{0}_{1}_favg_traces_T={2}_N={3}_b={4}_l={5}.pickle'.format(date,\n",
    "                                                                       code,\n",
    "                                                                       T_sim,\n",
    "                                                                       N_sims,\n",
    "                                                                      mut_param[0],\n",
    "                                                                      mut_param[1]) \n",
    "# initialize list of dictionaries of arrays (i know, it's too much) \n",
    "dataframes = []\n",
    "newtimes = np.linspace(0, T_sim, int((T_sim)/dt))\n",
    "# run N simulations\n",
    "for i in tqdm_notebook(range(N_sims), desc='Simulation Number: '):\n",
    "    LUCA = strain(N_pop=1e6, table=ff16Table, fitness=0, mu=2e-5)\n",
    "    sim = thunderflask(LUCA)\n",
    "    sim.simulate(T_sim+t_extra, dt, T_curr, mut_param, show_progress=False)\n",
    "    t = sim.f_avgtrace['timepoints']\n",
    "    f_avg = sim.f_avgtrace['f_avg']\n",
    "    interp_fxn = interp(t, f_avg)\n",
    "    newf = interp_fxn(newtimes)\n",
    "    df = pd.DataFrame({\n",
    "        'time' : newtimes, \n",
    "        'value' : newf, \n",
    "        'sim' : [i for j in range(len(newf))],\n",
    "        'code' : [code for j in range(len(newf))]\n",
    "    })\n",
    "    dataframes.append(df)\n",
    "# package data into pandas dataframe\n",
    "df_sc = pd.concat(dataframes)\n",
    "# pickle results\n",
    "with open('{0}/{1}'.format(filepath, filename), 'wb') as handle:\n",
    "    pickle.dump(df_sc, handle)\n",
    "# plot results\n",
    "ax = sns.tsplot(data=df_sc, time='time', value='value', unit='sim')\n",
    "plt.title('{0}: <F> vs time ({1} Replicates)'.format(code, N_sims))\n",
    "plt.xlabel('Time (in generations)')\n",
    "plt.ylabel('Mean Fitness')\n",
    "plt.show()\n",
    "print('done')"
   ]
  },
  {
   "cell_type": "code",
   "execution_count": 15,
   "metadata": {},
   "outputs": [
    {
     "data": {
      "application/vnd.jupyter.widget-view+json": {
       "model_id": "5d7b5c06fc1a41739ddf05380d6aa68f",
       "version_major": 2,
       "version_minor": 0
      },
      "text/plain": [
       "A Jupyter Widget"
      ]
     },
     "metadata": {},
     "output_type": "display_data"
    },
    {
     "name": "stdout",
     "output_type": "stream",
     "text": [
      "\n"
     ]
    },
    {
     "name": "stderr",
     "output_type": "stream",
     "text": [
      "/anaconda3/lib/python3.6/site-packages/seaborn/timeseries.py:183: UserWarning: The tsplot function is deprecated and will be removed or replaced (in a substantially altered version) in a future release.\n",
      "  warnings.warn(msg, UserWarning)\n"
     ]
    },
    {
     "data": {
      "image/png": "[encoded data removed]",
      "text/plain": [
       "<matplotlib.figure.Figure at 0x113e47dd8>"
      ]
     },
     "metadata": {},
     "output_type": "display_data"
    },
    {
     "name": "stdout",
     "output_type": "stream",
     "text": [
      "done\n"
     ]
    }
   ],
   "source": [
    "# initialize some variables\n",
    "T_curr = 0\n",
    "mut_param = [1,2]\n",
    "dt = 0.1\n",
    "N_sims = 100\n",
    "T_sim = 1000\n",
    "t_extra = 5\n",
    "date = '3-6'\n",
    "code = 'FF Code 17AA'\n",
    "filepath = 'res/manuscript_traces'\n",
    "filename = '{0}_{1}_favg_traces_T={2}_N={3}_b={4}_l={5}.pickle'.format(date,\n",
    "                                                                       code,\n",
    "                                                                       T_sim,\n",
    "                                                                       N_sims,\n",
    "                                                                      mut_param[0],\n",
    "                                                                      mut_param[1]) \n",
    "# initialize list of dictionaries of arrays (i know, it's too much) \n",
    "dataframes = []\n",
    "newtimes = np.linspace(0, T_sim, int((T_sim)/dt))\n",
    "# run N simulations\n",
    "for i in tqdm_notebook(range(N_sims), desc='Simulation Number: '):\n",
    "    LUCA = strain(N_pop=1e6, table=ff17Table, fitness=0, mu=2e-5)\n",
    "    sim = thunderflask(LUCA)\n",
    "    sim.simulate(T_sim+t_extra, dt, T_curr, mut_param, show_progress=False)\n",
    "    t = sim.f_avgtrace['timepoints']\n",
    "    f_avg = sim.f_avgtrace['f_avg']\n",
    "    interp_fxn = interp(t, f_avg)\n",
    "    newf = interp_fxn(newtimes)\n",
    "    df = pd.DataFrame({\n",
    "        'time' : newtimes, \n",
    "        'value' : newf, \n",
    "        'sim' : [i for j in range(len(newf))],\n",
    "        'code' : [code for j in range(len(newf))]\n",
    "    })\n",
    "    dataframes.append(df)\n",
    "# package data into pandas dataframe\n",
    "df_sc = pd.concat(dataframes)\n",
    "# pickle results\n",
    "with open('{0}/{1}'.format(filepath, filename), 'wb') as handle:\n",
    "    pickle.dump(df_sc, handle)\n",
    "# plot results\n",
    "ax = sns.tsplot(data=df_sc, time='time', value='value', unit='sim')\n",
    "plt.title('{0}: <F> vs time ({1} Replicates)'.format(code, N_sims))\n",
    "plt.xlabel('Time (in generations)')\n",
    "plt.ylabel('Mean Fitness')\n",
    "plt.show()\n",
    "print('done')"
   ]
  },
  {
   "cell_type": "code",
   "execution_count": 16,
   "metadata": {},
   "outputs": [
    {
     "data": {
      "application/vnd.jupyter.widget-view+json": {
       "model_id": "1b7e5bdd2fcd4f3b9bbf27cc93b6576e",
       "version_major": 2,
       "version_minor": 0
      },
      "text/plain": [
       "A Jupyter Widget"
      ]
     },
     "metadata": {},
     "output_type": "display_data"
    },
    {
     "name": "stdout",
     "output_type": "stream",
     "text": [
      "\n"
     ]
    },
    {
     "name": "stderr",
     "output_type": "stream",
     "text": [
      "/anaconda3/lib/python3.6/site-packages/seaborn/timeseries.py:183: UserWarning: The tsplot function is deprecated and will be removed or replaced (in a substantially altered version) in a future release.\n",
      "  warnings.warn(msg, UserWarning)\n"
     ]
    },
    {
     "data": {
      "image/png": "[encoded data removed]",
      "text/plain": [
       "<matplotlib.figure.Figure at 0x113ebe518>"
      ]
     },
     "metadata": {},
     "output_type": "display_data"
    },
    {
     "name": "stdout",
     "output_type": "stream",
     "text": [
      "done\n"
     ]
    }
   ],
   "source": [
    "# initialize some variables\n",
    "T_curr = 0\n",
    "mut_param = [1,2]\n",
    "dt = 0.1\n",
    "N_sims = 100\n",
    "T_sim = 1000\n",
    "t_extra = 5\n",
    "date = '3-6'\n",
    "code = 'FF Code 18AA'\n",
    "filepath = 'res/manuscript_traces'\n",
    "filename = '{0}_{1}_favg_traces_T={2}_N={3}_b={4}_l={5}.pickle'.format(date,\n",
    "                                                                       code,\n",
    "                                                                       T_sim,\n",
    "                                                                       N_sims,\n",
    "                                                                      mut_param[0],\n",
    "                                                                      mut_param[1]) \n",
    "# initialize list of dictionaries of arrays (i know, it's too much) \n",
    "dataframes = []\n",
    "newtimes = np.linspace(0, T_sim, int((T_sim)/dt))\n",
    "# run N simulations\n",
    "for i in tqdm_notebook(range(N_sims), desc='Simulation Number: '):\n",
    "    LUCA = strain(N_pop=1e6, table=ff18Table, fitness=0, mu=2e-5)\n",
    "    sim = thunderflask(LUCA)\n",
    "    sim.simulate(T_sim+t_extra, dt, T_curr, mut_param, show_progress=False)\n",
    "    t = sim.f_avgtrace['timepoints']\n",
    "    f_avg = sim.f_avgtrace['f_avg']\n",
    "    interp_fxn = interp(t, f_avg)\n",
    "    newf = interp_fxn(newtimes)\n",
    "    df = pd.DataFrame({\n",
    "        'time' : newtimes, \n",
    "        'value' : newf, \n",
    "        'sim' : [i for j in range(len(newf))],\n",
    "        'code' : [code for j in range(len(newf))]\n",
    "    })\n",
    "    dataframes.append(df)\n",
    "# package data into pandas dataframe\n",
    "df_sc = pd.concat(dataframes)\n",
    "# pickle results\n",
    "with open('{0}/{1}'.format(filepath, filename), 'wb') as handle:\n",
    "    pickle.dump(df_sc, handle)\n",
    "# plot results\n",
    "ax = sns.tsplot(data=df_sc, time='time', value='value', unit='sim')\n",
    "plt.title('{0}: <F> vs time ({1} Replicates)'.format(code, N_sims))\n",
    "plt.xlabel('Time (in generations)')\n",
    "plt.ylabel('Mean Fitness')\n",
    "plt.show()\n",
    "print('done')"
   ]
  },
  {
   "cell_type": "code",
   "execution_count": 17,
   "metadata": {},
   "outputs": [
    {
     "data": {
      "application/vnd.jupyter.widget-view+json": {
       "model_id": "acb682d173dd4b4ea15368e54e034992",
       "version_major": 2,
       "version_minor": 0
      },
      "text/plain": [
       "A Jupyter Widget"
      ]
     },
     "metadata": {},
     "output_type": "display_data"
    },
    {
     "name": "stdout",
     "output_type": "stream",
     "text": [
      "\n"
     ]
    },
    {
     "name": "stderr",
     "output_type": "stream",
     "text": [
      "/anaconda3/lib/python3.6/site-packages/seaborn/timeseries.py:183: UserWarning: The tsplot function is deprecated and will be removed or replaced (in a substantially altered version) in a future release.\n",
      "  warnings.warn(msg, UserWarning)\n"
     ]
    },
    {
     "data": {
      "image/png": "[encoded data removed]",
      "text/plain": [
       "<matplotlib.figure.Figure at 0x113e529b0>"
      ]
     },
     "metadata": {},
     "output_type": "display_data"
    },
    {
     "name": "stdout",
     "output_type": "stream",
     "text": [
      "done\n"
     ]
    }
   ],
   "source": [
    "# initialize some variables\n",
    "T_curr = 0\n",
    "mut_param = [1,2]\n",
    "dt = 0.1\n",
    "N_sims = 100\n",
    "T_sim = 1000\n",
    "t_extra = 5\n",
    "date = '3-6'\n",
    "code = 'FF Code 19AA'\n",
    "filepath = 'res/manuscript_traces'\n",
    "filename = '{0}_{1}_favg_traces_T={2}_N={3}_b={4}_l={5}.pickle'.format(date,\n",
    "                                                                       code,\n",
    "                                                                       T_sim,\n",
    "                                                                       N_sims,\n",
    "                                                                      mut_param[0],\n",
    "                                                                      mut_param[1]) \n",
    "# initialize list of dictionaries of arrays (i know, it's too much) \n",
    "dataframes = []\n",
    "newtimes = np.linspace(0, T_sim, int((T_sim)/dt))\n",
    "# run N simulations\n",
    "for i in tqdm_notebook(range(N_sims), desc='Simulation Number: '):\n",
    "    LUCA = strain(N_pop=1e6, table=ff19Table, fitness=0, mu=2e-5)\n",
    "    sim = thunderflask(LUCA)\n",
    "    sim.simulate(T_sim+t_extra, dt, T_curr, mut_param, show_progress=False)\n",
    "    t = sim.f_avgtrace['timepoints']\n",
    "    f_avg = sim.f_avgtrace['f_avg']\n",
    "    interp_fxn = interp(t, f_avg)\n",
    "    newf = interp_fxn(newtimes)\n",
    "    df = pd.DataFrame({\n",
    "        'time' : newtimes, \n",
    "        'value' : newf, \n",
    "        'sim' : [i for j in range(len(newf))],\n",
    "        'code' : [code for j in range(len(newf))]\n",
    "    })\n",
    "    dataframes.append(df)\n",
    "# package data into pandas dataframe\n",
    "df_sc = pd.concat(dataframes)\n",
    "# pickle results\n",
    "with open('{0}/{1}'.format(filepath, filename), 'wb') as handle:\n",
    "    pickle.dump(df_sc, handle)\n",
    "# plot results\n",
    "ax = sns.tsplot(data=df_sc, time='time', value='value', unit='sim')\n",
    "plt.title('{0}: <F> vs time ({1} Replicates)'.format(code, N_sims))\n",
    "plt.xlabel('Time (in generations)')\n",
    "plt.ylabel('Mean Fitness')\n",
    "plt.show()\n",
    "print('done')"
   ]
  },
  {
   "cell_type": "code",
   "execution_count": 18,
   "metadata": {},
   "outputs": [
    {
     "data": {
      "application/vnd.jupyter.widget-view+json": {
       "model_id": "00ab73087fa340c59ce6df91fd1cbde8",
       "version_major": 2,
       "version_minor": 0
      },
      "text/plain": [
       "A Jupyter Widget"
      ]
     },
     "metadata": {},
     "output_type": "display_data"
    },
    {
     "name": "stdout",
     "output_type": "stream",
     "text": [
      "\n"
     ]
    },
    {
     "name": "stderr",
     "output_type": "stream",
     "text": [
      "/anaconda3/lib/python3.6/site-packages/seaborn/timeseries.py:183: UserWarning: The tsplot function is deprecated and will be removed or replaced (in a substantially altered version) in a future release.\n",
      "  warnings.warn(msg, UserWarning)\n"
     ]
    },
    {
     "data": {
      "image/png": "[encoded data removed]",
      "text/plain": [
       "<matplotlib.figure.Figure at 0x10b6a2cf8>"
      ]
     },
     "metadata": {},
     "output_type": "display_data"
    },
    {
     "name": "stdout",
     "output_type": "stream",
     "text": [
      "done\n"
     ]
    }
   ],
   "source": [
    "# initialize some variables\n",
    "T_curr = 0\n",
    "mut_param = [1,2]\n",
    "dt = 0.1\n",
    "N_sims = 100\n",
    "T_sim = 1000\n",
    "t_extra = 5\n",
    "date = '3-6'\n",
    "code = 'FF Code 20AA'\n",
    "filepath = 'res/manuscript_traces'\n",
    "filename = '{0}_{1}_favg_traces_T={2}_N={3}_b={4}_l={5}.pickle'.format(date,\n",
    "                                                                       code,\n",
    "                                                                       T_sim,\n",
    "                                                                       N_sims,\n",
    "                                                                      mut_param[0],\n",
    "                                                                      mut_param[1]) \n",
    "# initialize list of dictionaries of arrays (i know, it's too much) \n",
    "dataframes = []\n",
    "newtimes = np.linspace(0, T_sim, int((T_sim)/dt))\n",
    "# run N simulations\n",
    "for i in tqdm_notebook(range(N_sims), desc='Simulation Number: '):\n",
    "    LUCA = strain(N_pop=1e6, table=ff20Table, fitness=0, mu=2e-5)\n",
    "    sim = thunderflask(LUCA)\n",
    "    sim.simulate(T_sim+t_extra, dt, T_curr, mut_param, show_progress=False)\n",
    "    t = sim.f_avgtrace['timepoints']\n",
    "    f_avg = sim.f_avgtrace['f_avg']\n",
    "    interp_fxn = interp(t, f_avg)\n",
    "    newf = interp_fxn(newtimes)\n",
    "    df = pd.DataFrame({\n",
    "        'time' : newtimes, \n",
    "        'value' : newf, \n",
    "        'sim' : [i for j in range(len(newf))],\n",
    "        'code' : [code for j in range(len(newf))]\n",
    "    })\n",
    "    dataframes.append(df)\n",
    "# package data into pandas dataframe\n",
    "df_sc = pd.concat(dataframes)\n",
    "# pickle results\n",
    "with open('{0}/{1}'.format(filepath, filename), 'wb') as handle:\n",
    "    pickle.dump(df_sc, handle)\n",
    "# plot results\n",
    "ax = sns.tsplot(data=df_sc, time='time', value='value', unit='sim')\n",
    "plt.title('{0}: <F> vs time ({1} Replicates)'.format(code, N_sims))\n",
    "plt.xlabel('Time (in generations)')\n",
    "plt.ylabel('Mean Fitness')\n",
    "plt.show()\n",
    "print('done')"
   ]
  }
 ],
 "metadata": {
  "kernelspec": {
   "display_name": "Python 3",
   "language": "python",
   "name": "python3"
  },
  "language_info": {
   "codemirror_mode": {
    "name": "ipython",
    "version": 3
   },
   "file_extension": ".py",
   "mimetype": "text/x-python",
   "name": "python",
   "nbconvert_exporter": "python",
   "pygments_lexer": "ipython3",
   "version": "3.6.3"
  }
 },
 "nbformat": 4,
 "nbformat_minor": 2
}
