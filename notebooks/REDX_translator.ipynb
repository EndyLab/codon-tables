{
 "cells": [
  {
   "cell_type": "code",
   "execution_count": 1,
   "metadata": {},
   "outputs": [],
   "source": [
    "# import established python3 modules\n",
    "import numpy as np\n",
    "import pandas as pd\n",
    "import matplotlib as mpl\n",
    "import matplotlib.pyplot as plt\n",
    "import matplotlib.pylab as pl\n",
    "import matplotlib.colors as colors\n",
    "import matplotlib.animation as animation\n",
    "import seaborn as sns\n",
    "from tqdm import tqdm_notebook as tqdm\n",
    "import pickle\n",
    "import copy\n",
    "# import user defined python3 modules\n",
    "from src.codonTable import codonTable\n",
    "from src.codonUtils import utils\n",
    "from src.thunderflask import thunderflask\n",
    "from src.bacteria import strain"
   ]
  },
  {
   "cell_type": "code",
   "execution_count": 12,
   "metadata": {},
   "outputs": [],
   "source": [
    "# define physical RED15 code\n",
    "red15 = {\n",
    "    codon:'*' for codon in utils.tripletCodons\n",
    "}\n",
    "red15['UUC'] = 'F'\n",
    "red15['CUA'] = 'L'\n",
    "red15['AUG'] = 'M'\n",
    "red15['GUC'] = 'V'\n",
    "red15['UCA'] = 'S'\n",
    "red15['CCG'] = 'P'\n",
    "red15['ACC'] = 'T'\n",
    "red15['GCA'] = 'A'\n",
    "red15['UAC'] = 'Y'\n",
    "red15['CAG'] = 'Q'\n",
    "red15['AAA'] = 'K'\n",
    "red15['GAC'] = 'D'\n",
    "red15['UGG'] = 'W'\n",
    "red15['CGU'] = 'R'\n",
    "red15['GGA'] = 'G'\n",
    "RED15 = codonTable(red15)\n",
    "# RED15.codonTable"
   ]
  },
  {
   "cell_type": "code",
   "execution_count": 13,
   "metadata": {},
   "outputs": [],
   "source": [
    "# define physical RED20 code\n",
    "red20 = copy.deepcopy(red15)\n",
    "red20['AUC'] = 'I'\n",
    "red20['CAC'] = 'H'\n",
    "red20['AAC'] = 'N'\n",
    "red20['GAA'] = 'E'\n",
    "red20['UGC'] = 'C'\n",
    "\n",
    "RED20 = codonTable(red20)\n",
    "# RED20.codonTable"
   ]
  },
  {
   "cell_type": "code",
   "execution_count": null,
   "metadata": {},
   "outputs": [],
   "source": [
    "# define sfGFP AA sequence\n",
    "sfGFP_aa_seq = ''"
   ]
  }
 ],
 "metadata": {
  "kernelspec": {
   "display_name": "Python 3",
   "language": "python",
   "name": "python3"
  },
  "language_info": {
   "codemirror_mode": {
    "name": "ipython",
    "version": 3
   },
   "file_extension": ".py",
   "mimetype": "text/x-python",
   "name": "python",
   "nbconvert_exporter": "python",
   "pygments_lexer": "ipython3",
   "version": "3.7.1"
  }
 },
 "nbformat": 4,
 "nbformat_minor": 2
}
