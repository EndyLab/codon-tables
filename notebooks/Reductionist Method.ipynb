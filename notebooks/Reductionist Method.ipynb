{
 "cells": [
  {
   "cell_type": "code",
   "execution_count": 3,
   "metadata": {},
   "outputs": [],
   "source": [
    "import numpy as np\n",
    "from scipy.interpolate import interp1d as interp\n",
    "import pandas as pd\n",
    "import seaborn as sns\n",
    "import matplotlib.pyplot as plt\n",
    "from tqdm import tqdm\n",
    "from src.thunderflask import thunderflask\n",
    "from src.bacteria import strain\n",
    "from src.ffgen import ffgen\n",
    "from src.codonTable import codonTable\n",
    "from src.codonUtils import utils\n",
    "from src.bacteria import strain\n",
    "from src.ffgen import ffgen\n",
    "import pickle\n",
    "from src.codonOptimizer import tableOptimizer\n",
    "from queue import Queue as queue\n",
    "from random import choice\n",
    "from matplotlib.colors import LinearSegmentedColormap as LSC\n",
    "from mpl_toolkits.mplot3d import Axes3D\n",
    "from mpl_toolkits.axes_grid1 import make_axes_locatable\n",
    "import cProfile\n",
    "import copy\n",
    "import random"
   ]
  },
  {
   "cell_type": "code",
   "execution_count": 5,
   "metadata": {},
   "outputs": [
    {
     "name": "stdout",
     "output_type": "stream",
     "text": [
      "{'UUU': 'F', 'UUC': '*', 'UUA': '*', 'UUG': 'L', 'CUU': '*', 'CUC': '*', 'CUA': '*', 'CUG': '*', 'UCU': '*', 'UCC': 'S', 'UCA': '*', 'UCG': '*', 'AGU': '*', 'AGC': '*', 'UAU': '*', 'UAC': 'Y', 'UGU': 'C', 'UGC': '*', 'UGG': 'W', 'CCU': '*', 'CCC': '*', 'CCA': 'P', 'CCG': '*', 'CAU': 'H', 'CAC': '*', 'CAA': 'Q', 'CAG': '*', 'CGU': '*', 'CGC': '*', 'CGA': '*', 'CGG': 'R', 'AGA': '*', 'AGG': '*', 'AUU': 'I', 'AUC': '*', 'AUA': '*', 'AUG': 'M', 'ACU': '*', 'ACC': '*', 'ACA': 'T', 'ACG': '*', 'GUU': 'V', 'GUC': '*', 'GUA': '*', 'GUG': '*', 'AAU': 'N', 'AAC': '*', 'GCU': 'A', 'GCC': '*', 'GCA': '*', 'GCG': '*', 'GAU': 'D', 'GAC': '*', 'GAA': 'E', 'GAG': '*', 'GGU': 'G', 'GGC': '*', 'GGA': '*', 'GGG': '*', 'AAA': '*', 'AAG': 'K', 'UAA': '*', 'UAG': '*', 'UGA': '*'}\n"
     ]
    }
   ],
   "source": [
    "#initialize a table\n",
    "rc = copy.deepcopy(utils.standardTable)\n",
    "#Break table into dictionaries for each amino acid\n",
    "Fblock = dict((key,value) for key, value in rc.items() if value == 'F')\n",
    "Lblock = dict((key,value) for key, value in rc.items() if value == 'L')\n",
    "Sblock = dict((key,value) for key, value in rc.items() if value == 'S')\n",
    "Yblock = dict((key,value) for key, value in rc.items() if value == 'Y')\n",
    "Cblock = dict((key,value) for key, value in rc.items() if value == 'C')\n",
    "Wblock = dict((key,value) for key, value in rc.items() if value == 'W')\n",
    "Pblock = dict((key,value) for key, value in rc.items() if value == 'P')\n",
    "Hblock = dict((key,value) for key, value in rc.items() if value == 'H')\n",
    "Qblock = dict((key,value) for key, value in rc.items() if value == 'Q')\n",
    "Rblock = dict((key,value) for key, value in rc.items() if value == 'R')\n",
    "Iblock = dict((key,value) for key, value in rc.items() if value == 'I')\n",
    "Mblock = dict((key,value) for key, value in rc.items() if value == 'M')\n",
    "Tblock = dict((key,value) for key, value in rc.items() if value == 'T')\n",
    "Vblock = dict((key,value) for key, value in rc.items() if value == 'V')\n",
    "Nblock = dict((key,value) for key, value in rc.items() if value == 'N')\n",
    "Ablock = dict((key,value) for key, value in rc.items() if value == 'A')\n",
    "Dblock = dict((key,value) for key, value in rc.items() if value == 'D')\n",
    "Eblock = dict((key,value) for key, value in rc.items() if value == 'E')\n",
    "Gblock = dict((key,value) for key, value in rc.items() if value == 'G')\n",
    "Kblock = dict((key,value) for key, value in rc.items() if value == 'K')\n",
    "stopBlock = dict((key,value) for key, value in rc.items() if value == '*')\n",
    "blockArray = [Fblock, Lblock, Sblock, Yblock, Cblock, Wblock, Pblock, Hblock, Qblock, Rblock,\n",
    "                Iblock, Mblock, Tblock, Vblock, Nblock, Ablock, Dblock, Eblock, Gblock, Kblock, stopBlock]\n",
    "#Iterate through all amino acid blocks selecting one key and setting the rest map to stop \n",
    "choices = []\n",
    "for i in range (len(blockArray)):\n",
    "    choices.append(random.choice(list(blockArray[i])))\n",
    "    for key in blockArray[i]: \n",
    "        if key not in choices:\n",
    "            blockArray[i][key] = '*' \n",
    "#stitch amino acid blocks together to make a codon table\n",
    "reductionistTable = {}\n",
    "for i in range (len(blockArray)):\n",
    "    reductionistTable.update(blockArray[i])\n",
    "print(reductionistTable)"
   ]
  },
  {
   "cell_type": "code",
   "execution_count": null,
   "metadata": {
    "collapsed": true
   },
   "outputs": [],
   "source": []
  }
 ],
 "metadata": {
  "kernelspec": {
   "display_name": "Python 3",
   "language": "python",
   "name": "python3"
  },
  "language_info": {
   "codemirror_mode": {
    "name": "ipython",
    "version": 3
   },
   "file_extension": ".py",
   "mimetype": "text/x-python",
   "name": "python",
   "nbconvert_exporter": "python",
   "pygments_lexer": "ipython3",
   "version": "3.6.3"
  }
 },
 "nbformat": 4,
 "nbformat_minor": 2
}
