{
 "cells": [
  {
   "cell_type": "code",
   "execution_count": 14,
   "metadata": {
    "collapsed": true
   },
   "outputs": [],
   "source": [
    "import numpy as np\n",
    "from scipy.interpolate import interp1d as interp\n",
    "import pandas as pd\n",
    "import seaborn as sns\n",
    "import matplotlib.pyplot as plt\n",
    "from tqdm import tqdm_notebook\n",
    "from src.thunderflask import thunderflask\n",
    "from src.bacteria import strain\n",
    "from src.ffgen import ffgen\n",
    "from src.redGen import reductionist\n",
    "from src.codonTable import codonTable\n",
    "from src.codonUtils import utils\n",
    "from src.bacteria import strain\n",
    "import pickle\n",
    "from src.codonOptimizer import tableOptimizer\n",
    "from queue import Queue as queue\n",
    "from random import choice\n",
    "from matplotlib.colors import LinearSegmentedColormap as LSC\n",
    "from mpl_toolkits.mplot3d import Axes3D\n",
    "from mpl_toolkits.axes_grid1 import make_axes_locatable\n",
    "import cProfile\n",
    "import copy\n",
    "import random"
   ]
  },
  {
   "cell_type": "code",
   "execution_count": 25,
   "metadata": {},
   "outputs": [],
   "source": [
    "rc = utils.standardTable\n",
    "#Break table into dictionaries for each amino acid\n",
    "Fblock = dict((key,value) for key, value in rc.items() if value == 'F')\n",
    "Lblock = dict((key,value) for key, value in rc.items() if value == 'L')\n",
    "Sblock = dict((key,value) for key, value in rc.items() if value == 'S')\n",
    "Yblock = dict((key,value) for key, value in rc.items() if value == 'Y')\n",
    "Cblock = dict((key,value) for key, value in rc.items() if value == 'C')\n",
    "Wblock = dict((key,value) for key, value in rc.items() if value == 'W')\n",
    "Pblock = dict((key,value) for key, value in rc.items() if value == 'P')\n",
    "Hblock = dict((key,value) for key, value in rc.items() if value == 'H')\n",
    "Qblock = dict((key,value) for key, value in rc.items() if value == 'Q')\n",
    "Rblock = dict((key,value) for key, value in rc.items() if value == 'R')\n",
    "Iblock = dict((key,value) for key, value in rc.items() if value == 'I')\n",
    "Mblock = dict((key,value) for key, value in rc.items() if value == 'M')\n",
    "Tblock = dict((key,value) for key, value in rc.items() if value == 'T')\n",
    "Vblock = dict((key,value) for key, value in rc.items() if value == 'V')\n",
    "Nblock = dict((key,value) for key, value in rc.items() if value == 'N')\n",
    "Ablock = dict((key,value) for key, value in rc.items() if value == 'A')\n",
    "Dblock = dict((key,value) for key, value in rc.items() if value == 'D')\n",
    "Eblock = dict((key,value) for key, value in rc.items() if value == 'E')\n",
    "Gblock = dict((key,value) for key, value in rc.items() if value == 'G')\n",
    "Kblock = dict((key,value) for key, value in rc.items() if value == 'K')\n",
    "stopBlock = dict((key,value) for key, value in rc.items() if value == '*')\n",
    "blockArray = [Fblock, Lblock, Sblock, Yblock, Cblock, Wblock, Pblock, Hblock, Qblock, Rblock,\n",
    "                Iblock, Mblock, Tblock, Vblock, Nblock, Ablock, Dblock, Eblock, Gblock, Kblock, stopBlock]\n",
    "        \n",
    "#Iterate through all amino acid blocks selecting one key and setting the rest map to stop \n",
    "choices = ['UUU','UCC','UAA','UGG','CUC','CCA','CAG','CGU','AUA','ACG','AAU','AGC','GUG','GCU','GAC','GGA']\n",
    "choices2 = []\n",
    "for i in range (len(blockArray)):\n",
    "    choices2.append(random.choice(list(blockArray[i])))\n",
    "    for key in blockArray[i]: \n",
    "        if key not in choices:\n",
    "            blockArray[i][key] = '*'\n",
    "reductionistTable = {}\n",
    "for i in range (len(blockArray)):\n",
    "    reductionistTable.update(blockArray[i])\n",
    "# return built table\n",
    "# Fix AGC and UAA miswrite\n",
    "reductionistTable['AGC'] = 'C'\n",
    "reductionistTable['UAA'] = 'M'"
   ]
  },
  {
   "cell_type": "code",
   "execution_count": 27,
   "metadata": {},
   "outputs": [],
   "source": [
    "ff16Table = codonTable(reductionistTable)"
   ]
  },
  {
   "cell_type": "code",
   "execution_count": 28,
   "metadata": {},
   "outputs": [
    {
     "data": {
      "text/html": [
       "<div>\n",
       "<style scoped>\n",
       "    .dataframe tbody tr th:only-of-type {\n",
       "        vertical-align: middle;\n",
       "    }\n",
       "\n",
       "    .dataframe tbody tr th {\n",
       "        vertical-align: top;\n",
       "    }\n",
       "\n",
       "    .dataframe thead th {\n",
       "        text-align: right;\n",
       "    }\n",
       "</style>\n",
       "<table border=\"1\" class=\"dataframe\">\n",
       "  <thead>\n",
       "    <tr style=\"text-align: right;\">\n",
       "      <th></th>\n",
       "      <th></th>\n",
       "      <th>U</th>\n",
       "      <th>C</th>\n",
       "      <th>A</th>\n",
       "      <th>G</th>\n",
       "    </tr>\n",
       "  </thead>\n",
       "  <tbody>\n",
       "    <tr>\n",
       "      <th rowspan=\"4\" valign=\"top\">U</th>\n",
       "      <th>U</th>\n",
       "      <td>UUU : F</td>\n",
       "      <td>UCU : *</td>\n",
       "      <td>UAU : *</td>\n",
       "      <td>UGU : *</td>\n",
       "    </tr>\n",
       "    <tr>\n",
       "      <th>C</th>\n",
       "      <td>UUC : *</td>\n",
       "      <td>UCC : S</td>\n",
       "      <td>UAC : *</td>\n",
       "      <td>UGC : *</td>\n",
       "    </tr>\n",
       "    <tr>\n",
       "      <th>A</th>\n",
       "      <td>UUA : *</td>\n",
       "      <td>UCA : *</td>\n",
       "      <td>UAA : M</td>\n",
       "      <td>UGA : *</td>\n",
       "    </tr>\n",
       "    <tr>\n",
       "      <th>G</th>\n",
       "      <td>UUG : *</td>\n",
       "      <td>UCG : *</td>\n",
       "      <td>UAG : *</td>\n",
       "      <td>UGG : W</td>\n",
       "    </tr>\n",
       "    <tr>\n",
       "      <th rowspan=\"4\" valign=\"top\">C</th>\n",
       "      <th>U</th>\n",
       "      <td>CUU : *</td>\n",
       "      <td>CCU : *</td>\n",
       "      <td>CAU : *</td>\n",
       "      <td>CGU : R</td>\n",
       "    </tr>\n",
       "    <tr>\n",
       "      <th>C</th>\n",
       "      <td>CUC : L</td>\n",
       "      <td>CCC : *</td>\n",
       "      <td>CAC : *</td>\n",
       "      <td>CGC : *</td>\n",
       "    </tr>\n",
       "    <tr>\n",
       "      <th>A</th>\n",
       "      <td>CUA : *</td>\n",
       "      <td>CCA : P</td>\n",
       "      <td>CAA : *</td>\n",
       "      <td>CGA : *</td>\n",
       "    </tr>\n",
       "    <tr>\n",
       "      <th>G</th>\n",
       "      <td>CUG : *</td>\n",
       "      <td>CCG : *</td>\n",
       "      <td>CAG : Q</td>\n",
       "      <td>CGG : *</td>\n",
       "    </tr>\n",
       "    <tr>\n",
       "      <th rowspan=\"4\" valign=\"top\">A</th>\n",
       "      <th>U</th>\n",
       "      <td>AUU : *</td>\n",
       "      <td>ACU : *</td>\n",
       "      <td>AAU : N</td>\n",
       "      <td>AGU : *</td>\n",
       "    </tr>\n",
       "    <tr>\n",
       "      <th>C</th>\n",
       "      <td>AUC : *</td>\n",
       "      <td>ACC : *</td>\n",
       "      <td>AAC : *</td>\n",
       "      <td>AGC : C</td>\n",
       "    </tr>\n",
       "    <tr>\n",
       "      <th>A</th>\n",
       "      <td>AUA : I</td>\n",
       "      <td>ACA : *</td>\n",
       "      <td>AAA : *</td>\n",
       "      <td>AGA : *</td>\n",
       "    </tr>\n",
       "    <tr>\n",
       "      <th>G</th>\n",
       "      <td>AUG : *</td>\n",
       "      <td>ACG : T</td>\n",
       "      <td>AAG : *</td>\n",
       "      <td>AGG : *</td>\n",
       "    </tr>\n",
       "    <tr>\n",
       "      <th rowspan=\"4\" valign=\"top\">G</th>\n",
       "      <th>U</th>\n",
       "      <td>GUU : *</td>\n",
       "      <td>GCU : A</td>\n",
       "      <td>GAU : *</td>\n",
       "      <td>GGU : *</td>\n",
       "    </tr>\n",
       "    <tr>\n",
       "      <th>C</th>\n",
       "      <td>GUC : *</td>\n",
       "      <td>GCC : *</td>\n",
       "      <td>GAC : D</td>\n",
       "      <td>GGC : *</td>\n",
       "    </tr>\n",
       "    <tr>\n",
       "      <th>A</th>\n",
       "      <td>GUA : *</td>\n",
       "      <td>GCA : *</td>\n",
       "      <td>GAA : *</td>\n",
       "      <td>GGA : G</td>\n",
       "    </tr>\n",
       "    <tr>\n",
       "      <th>G</th>\n",
       "      <td>GUG : V</td>\n",
       "      <td>GCG : *</td>\n",
       "      <td>GAG : *</td>\n",
       "      <td>GGG : *</td>\n",
       "    </tr>\n",
       "  </tbody>\n",
       "</table>\n",
       "</div>"
      ],
      "text/plain": [
       "           U        C        A        G\n",
       "U U  UUU : F  UCU : *  UAU : *  UGU : *\n",
       "  C  UUC : *  UCC : S  UAC : *  UGC : *\n",
       "  A  UUA : *  UCA : *  UAA : M  UGA : *\n",
       "  G  UUG : *  UCG : *  UAG : *  UGG : W\n",
       "C U  CUU : *  CCU : *  CAU : *  CGU : R\n",
       "  C  CUC : L  CCC : *  CAC : *  CGC : *\n",
       "  A  CUA : *  CCA : P  CAA : *  CGA : *\n",
       "  G  CUG : *  CCG : *  CAG : Q  CGG : *\n",
       "A U  AUU : *  ACU : *  AAU : N  AGU : *\n",
       "  C  AUC : *  ACC : *  AAC : *  AGC : C\n",
       "  A  AUA : I  ACA : *  AAA : *  AGA : *\n",
       "  G  AUG : *  ACG : T  AAG : *  AGG : *\n",
       "G U  GUU : *  GCU : A  GAU : *  GGU : *\n",
       "  C  GUC : *  GCC : *  GAC : D  GGC : *\n",
       "  A  GUA : *  GCA : *  GAA : *  GGA : G\n",
       "  G  GUG : V  GCG : *  GAG : *  GGG : *"
      ]
     },
     "execution_count": 28,
     "metadata": {},
     "output_type": "execute_result"
    }
   ],
   "source": [
    "ff16Table.dictToTable()"
   ]
  },
  {
   "cell_type": "code",
   "execution_count": 29,
   "metadata": {},
   "outputs": [
    {
     "data": {
      "application/vnd.jupyter.widget-view+json": {
       "model_id": "6e3c6b9f3fa94f1f9d87cbdabc90a03b",
       "version_major": 2,
       "version_minor": 0
      },
      "text/plain": [
       "A Jupyter Widget"
      ]
     },
     "metadata": {},
     "output_type": "display_data"
    },
    {
     "name": "stdout",
     "output_type": "stream",
     "text": [
      "\n"
     ]
    },
    {
     "name": "stderr",
     "output_type": "stream",
     "text": [
      "/anaconda3/lib/python3.6/site-packages/seaborn/timeseries.py:183: UserWarning: The tsplot function is deprecated and will be removed or replaced (in a substantially altered version) in a future release.\n",
      "  warnings.warn(msg, UserWarning)\n"
     ]
    },
    {
     "data": {
      "image/png": "[encoded data removed]",
      "text/plain": [
       "<matplotlib.figure.Figure at 0x10c11dcf8>"
      ]
     },
     "metadata": {},
     "output_type": "display_data"
    },
    {
     "name": "stdout",
     "output_type": "stream",
     "text": [
      "done\n"
     ]
    }
   ],
   "source": [
    "# initialize some variables\n",
    "T_curr = 0\n",
    "mut_param = [1,2]\n",
    "dt = 0.1\n",
    "N_sims = 100\n",
    "T_sim = 1000\n",
    "t_extra = 5\n",
    "date = '3-6'\n",
    "code = 'FF16 Code'\n",
    "filepath = 'res/manuscript_traces'\n",
    "filename = '{0}_{1}_favg_traces_T={2}_N={3}_b={4}_l={5}.pickle'.format(date,\n",
    "                                                                       code,\n",
    "                                                                       T_sim,\n",
    "                                                                       N_sims,\n",
    "                                                                      mut_param[0],\n",
    "                                                                      mut_param[1]) \n",
    "# initialize list of dictionaries of arrays (i know, it's too much) \n",
    "dataframes = []\n",
    "newtimes = np.linspace(0, T_sim, int((T_sim)/dt))\n",
    "# run N simulations\n",
    "for i in tqdm_notebook(range(N_sims), desc='Simulation Number: '):\n",
    "    LUCA = strain(N_pop=1e6, table=ff16Table, fitness=0, mu=2e-5)\n",
    "    sim = thunderflask(LUCA)\n",
    "    sim.simulate(T_sim+t_extra, dt, T_curr, mut_param, show_progress=False)\n",
    "    t = sim.f_avgtrace['timepoints']\n",
    "    f_avg = sim.f_avgtrace['f_avg']\n",
    "    interp_fxn = interp(t, f_avg)\n",
    "    newf = interp_fxn(newtimes)\n",
    "    df = pd.DataFrame({\n",
    "        'time' : newtimes, \n",
    "        'value' : newf, \n",
    "        'sim' : [i for j in range(len(newf))],\n",
    "        'code' : [code for j in range(len(newf))]\n",
    "    })\n",
    "    dataframes.append(df)\n",
    "# package data into pandas dataframe\n",
    "df_sc = pd.concat(dataframes)\n",
    "# pickle results\n",
    "with open('{0}/{1}'.format(filepath, filename), 'wb') as handle:\n",
    "    pickle.dump(df_sc, handle)\n",
    "# plot results\n",
    "ax = sns.tsplot(data=df_sc, time='time', value='value', unit='sim')\n",
    "plt.title('{0}: <F> vs time ({1} Replicates)'.format(code, N_sims))\n",
    "plt.xlabel('Time (in generations)')\n",
    "plt.ylabel('Mean Fitness')\n",
    "plt.show()\n",
    "print('done')"
   ]
  },
  {
   "cell_type": "code",
   "execution_count": 32,
   "metadata": {},
   "outputs": [
    {
     "data": {
      "application/vnd.jupyter.widget-view+json": {
       "model_id": "217a8862fbc941be887b336023d24cb1",
       "version_major": 2,
       "version_minor": 0
      },
      "text/plain": [
       "A Jupyter Widget"
      ]
     },
     "metadata": {},
     "output_type": "display_data"
    },
    {
     "name": "stdout",
     "output_type": "stream",
     "text": [
      "\n"
     ]
    },
    {
     "name": "stderr",
     "output_type": "stream",
     "text": [
      "/anaconda3/lib/python3.6/site-packages/seaborn/timeseries.py:183: UserWarning: The tsplot function is deprecated and will be removed or replaced (in a substantially altered version) in a future release.\n",
      "  warnings.warn(msg, UserWarning)\n"
     ]
    },
    {
     "data": {
      "image/png": "[encoded data removed]",
      "text/plain": [
       "<matplotlib.figure.Figure at 0x10c11dc18>"
      ]
     },
     "metadata": {},
     "output_type": "display_data"
    },
    {
     "name": "stdout",
     "output_type": "stream",
     "text": [
      "done\n"
     ]
    }
   ],
   "source": [
    "# initialize some variables\n",
    "T_curr = 0\n",
    "mut_param = [1,2]\n",
    "dt = 0.1\n",
    "N_sims = 100\n",
    "T_sim = 10000\n",
    "t_extra = 5\n",
    "date = '3-6'\n",
    "code = 'FF16 Code'\n",
    "filepath = 'res/manuscript_traces'\n",
    "filename = '{0}_{1}_favg_traces_T={2}_N={3}_b={4}_l={5}.pickle'.format(date,\n",
    "                                                                       code,\n",
    "                                                                       T_sim,\n",
    "                                                                       N_sims,\n",
    "                                                                      mut_param[0],\n",
    "                                                                      mut_param[1]) \n",
    "# initialize list of dictionaries of arrays (i know, it's too much) \n",
    "dataframes = []\n",
    "newtimes = np.linspace(0, T_sim, int((T_sim)/dt))\n",
    "# run N simulations\n",
    "for i in tqdm_notebook(range(N_sims), desc='Simulation Number: '):\n",
    "    LUCA = strain(N_pop=1e6, table=ff16Table, fitness=0, mu=2e-5)\n",
    "    sim = thunderflask(LUCA)\n",
    "    sim.simulate(T_sim+t_extra, dt, T_curr, mut_param, show_progress=False)\n",
    "    t = sim.f_avgtrace['timepoints']\n",
    "    f_avg = sim.f_avgtrace['f_avg']\n",
    "    interp_fxn = interp(t, f_avg)\n",
    "    newf = interp_fxn(newtimes)\n",
    "    df = pd.DataFrame({\n",
    "        'time' : newtimes, \n",
    "        'value' : newf, \n",
    "        'sim' : [i for j in range(len(newf))],\n",
    "        'code' : [code for j in range(len(newf))]\n",
    "    })\n",
    "    dataframes.append(df)\n",
    "# package data into pandas dataframe\n",
    "df_sc = pd.concat(dataframes)\n",
    "# pickle results\n",
    "with open('{0}/{1}'.format(filepath, filename), 'wb') as handle:\n",
    "    pickle.dump(df_sc, handle)\n",
    "# plot results\n",
    "ax = sns.tsplot(data=df_sc, time='time', value='value', unit='sim')\n",
    "plt.title('{0}: <F> vs time ({1} Replicates)'.format(code, N_sims))\n",
    "plt.xlabel('Time (in generations)')\n",
    "plt.ylabel('Mean Fitness')\n",
    "plt.show()\n",
    "print('done')"
   ]
  },
  {
   "cell_type": "code",
   "execution_count": null,
   "metadata": {
    "collapsed": true
   },
   "outputs": [],
   "source": []
  }
 ],
 "metadata": {
  "kernelspec": {
   "display_name": "Python 3",
   "language": "python",
   "name": "python3"
  },
  "language_info": {
   "codemirror_mode": {
    "name": "ipython",
    "version": 3
   },
   "file_extension": ".py",
   "mimetype": "text/x-python",
   "name": "python",
   "nbconvert_exporter": "python",
   "pygments_lexer": "ipython3",
   "version": "3.6.3"
  }
 },
 "nbformat": 4,
 "nbformat_minor": 2
}
