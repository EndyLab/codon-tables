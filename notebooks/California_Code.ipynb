{
 "cells": [
  {
   "cell_type": "code",
   "execution_count": 5,
   "metadata": {},
   "outputs": [],
   "source": [
    "# import necessary modules\n",
    "import numpy as np\n",
    "from scipy import stats\n",
    "from scipy.interpolate import interp1d as interp\n",
    "import math\n",
    "import pandas as pd\n",
    "import seaborn as sns\n",
    "import matplotlib.pyplot as plt\n",
    "import networkx as nx\n",
    "from src.codonUtils import utils\n",
    "from src.codonOptimizer import tableOptimizer\n",
    "from src.codonTable import codonTable\n",
    "from src.bacteria import strain\n",
    "from src.thunderflask import thunderflask\n",
    "import pickle\n",
    "import subprocess\n",
    "from tqdm import tqdm_notebook"
   ]
  },
  {
   "cell_type": "code",
   "execution_count": 2,
   "metadata": {},
   "outputs": [],
   "source": [
    "sim = tableOptimizer()\n",
    "# preallocate memory for statistics\n",
    "# perform N trials\n",
    "ct, *dummy = sim.GDA(subFunc='Gilis')\n",
    "californiaCode = codonTable(ct)"
   ]
  },
  {
   "cell_type": "code",
   "execution_count": 6,
   "metadata": {},
   "outputs": [
    {
     "data": {
      "application/vnd.jupyter.widget-view+json": {
       "model_id": "00e7d0edb888486ab4cde9b50dc27bf6",
       "version_major": 2,
       "version_minor": 0
      },
      "text/html": [
       "<p>Failed to display Jupyter Widget of type <code>HBox</code>.</p>\n",
       "<p>\n",
       "  If you're reading this message in the Jupyter Notebook or JupyterLab Notebook, it may mean\n",
       "  that the widgets JavaScript is still loading. If this message persists, it\n",
       "  likely means that the widgets JavaScript library is either not installed or\n",
       "  not enabled. See the <a href=\"https://ipywidgets.readthedocs.io/en/stable/user_install.html\">Jupyter\n",
       "  Widgets Documentation</a> for setup instructions.\n",
       "</p>\n",
       "<p>\n",
       "  If you're reading this message in another frontend (for example, a static\n",
       "  rendering on GitHub or <a href=\"https://nbviewer.jupyter.org/\">NBViewer</a>),\n",
       "  it may mean that your frontend doesn't currently support widgets.\n",
       "</p>\n"
      ],
      "text/plain": [
       "HBox(children=(IntProgress(value=0, description='Simulation Number: : ', max=10), HTML(value='')))"
      ]
     },
     "metadata": {},
     "output_type": "display_data"
    },
    {
     "name": "stderr",
     "output_type": "stream",
     "text": [
      "Iteration Number: :   5%|▍         | 482/10050 [00:04<03:18, 48.18it/s]"
     ]
    },
    {
     "name": "stdout",
     "output_type": "stream",
     "text": [
      "\n"
     ]
    },
    {
     "name": "stderr",
     "output_type": "stream",
     "text": [
      "Iteration Number: : 100%|██████████| 10050/10050 [03:07<00:00, 53.65it/s]\n",
      "Iteration Number: : 100%|██████████| 10050/10050 [03:07<00:00, 53.71it/s]\n",
      "Iteration Number: : 100%|██████████| 10050/10050 [03:12<00:00, 52.23it/s] \n",
      "Iteration Number: : 100%|██████████| 10050/10050 [02:48<00:00, 59.56it/s]\n",
      "Iteration Number: : 100%|██████████| 10050/10050 [03:02<00:00, 55.02it/s]\n",
      "Iteration Number: : 100%|██████████| 10050/10050 [02:58<00:00, 56.34it/s] \n",
      "Iteration Number: : 100%|██████████| 10050/10050 [03:07<00:00, 53.66it/s] \n",
      "Iteration Number: : 100%|██████████| 10050/10050 [02:51<00:00, 58.53it/s]\n",
      "Iteration Number: : 100%|██████████| 10050/10050 [03:02<00:00, 55.19it/s] \n",
      "Iteration Number: : 100%|██████████| 10050/10050 [02:53<00:00, 58.00it/s]"
     ]
    },
    {
     "name": "stdout",
     "output_type": "stream",
     "text": [
      "\n"
     ]
    },
    {
     "name": "stderr",
     "output_type": "stream",
     "text": [
      "\n"
     ]
    },
    {
     "ename": "NameError",
     "evalue": "name 'df_sc' is not defined",
     "output_type": "error",
     "traceback": [
      "\u001b[0;31m---------------------------------------------------------------------------\u001b[0m",
      "\u001b[0;31mNameError\u001b[0m                                 Traceback (most recent call last)",
      "\u001b[0;32m<ipython-input-6-aaed870a80b9>\u001b[0m in \u001b[0;36m<module>\u001b[0;34m()\u001b[0m\n\u001b[1;32m     40\u001b[0m \u001b[0;31m#     pickle.dump(df_sc, handle)\u001b[0m\u001b[0;34m\u001b[0m\u001b[0;34m\u001b[0m\u001b[0m\n\u001b[1;32m     41\u001b[0m \u001b[0;31m# plot results\u001b[0m\u001b[0;34m\u001b[0m\u001b[0;34m\u001b[0m\u001b[0m\n\u001b[0;32m---> 42\u001b[0;31m \u001b[0max\u001b[0m \u001b[0;34m=\u001b[0m \u001b[0msns\u001b[0m\u001b[0;34m.\u001b[0m\u001b[0mtsplot\u001b[0m\u001b[0;34m(\u001b[0m\u001b[0mdata\u001b[0m\u001b[0;34m=\u001b[0m\u001b[0mdf_sc\u001b[0m\u001b[0;34m,\u001b[0m \u001b[0mtime\u001b[0m\u001b[0;34m=\u001b[0m\u001b[0;34m'time'\u001b[0m\u001b[0;34m,\u001b[0m \u001b[0mvalue\u001b[0m\u001b[0;34m=\u001b[0m\u001b[0;34m'value'\u001b[0m\u001b[0;34m,\u001b[0m \u001b[0munit\u001b[0m\u001b[0;34m=\u001b[0m\u001b[0;34m'sim'\u001b[0m\u001b[0;34m)\u001b[0m\u001b[0;34m\u001b[0m\u001b[0m\n\u001b[0m\u001b[1;32m     43\u001b[0m \u001b[0mplt\u001b[0m\u001b[0;34m.\u001b[0m\u001b[0mtitle\u001b[0m\u001b[0;34m(\u001b[0m\u001b[0;34m'{0}: <F> vs time ({1} Replicates)'\u001b[0m\u001b[0;34m.\u001b[0m\u001b[0mformat\u001b[0m\u001b[0;34m(\u001b[0m\u001b[0mcode\u001b[0m\u001b[0;34m,\u001b[0m \u001b[0mN_sims\u001b[0m\u001b[0;34m)\u001b[0m\u001b[0;34m)\u001b[0m\u001b[0;34m\u001b[0m\u001b[0m\n\u001b[1;32m     44\u001b[0m \u001b[0mplt\u001b[0m\u001b[0;34m.\u001b[0m\u001b[0mxlabel\u001b[0m\u001b[0;34m(\u001b[0m\u001b[0;34m'Time (in generations)'\u001b[0m\u001b[0;34m)\u001b[0m\u001b[0;34m\u001b[0m\u001b[0m\n",
      "\u001b[0;31mNameError\u001b[0m: name 'df_sc' is not defined"
     ]
    }
   ],
   "source": [
    "# initialize some variables\n",
    "T_curr = 0\n",
    "mut_param = [1, 2]\n",
    "dt = 0.1\n",
    "N_sims = 10\n",
    "T_sim = 1000\n",
    "t_extra = 5\n",
    "date = '3-6'\n",
    "code = 'California Code'\n",
    "filepath = 'res/2-14 Traces'\n",
    "filename = '{0}_{1}_favg_traces_T={2}_N={3}_b={4}_l={5}.pickle'.format(date,\n",
    "                                                                       code,\n",
    "                                                                       T_sim,\n",
    "                                                                       N_sims,\n",
    "                                                                      mut_param[0],\n",
    "                                                                      mut_param[1]) \n",
    "# initialize list of dictionaries of arrays (i know, it's too much) \n",
    "dataframes = []\n",
    "newtimes = np.linspace(0, T_sim, int((T_sim)/dt))\n",
    "# run N simulations\n",
    "for i in tqdm_notebook(range(N_sims), desc='Simulation Number: '):\n",
    "    LUCA = strain(N_pop=1e6, table=californiaCode, fitness=0, mu=2e-5)\n",
    "    sim = thunderflask(LUCA)\n",
    "    sim.simulate(T_sim+t_extra, dt, T_curr, mut_param, show_progress='notebook')\n",
    "    t = sim.f_avgtrace['timepoints']\n",
    "    f_avg = sim.f_avgtrace['f_avg']\n",
    "    interp_fxn = interp(t, f_avg)\n",
    "    newf = interp_fxn(newtimes)\n",
    "    df = pd.DataFrame({\n",
    "        'time' : newtimes, \n",
    "        'value' : newf, \n",
    "        'sim' : [i for j in range(len(newf))],\n",
    "        'code' : [code for j in range(len(newf))]\n",
    "    })\n",
    "    dataframes.append(df)\n",
    "# package data into pandas dataframe\n",
    "df_cal = pd.concat(dataframes)"
   ]
  },
  {
   "cell_type": "code",
   "execution_count": 7,
   "metadata": {},
   "outputs": [
    {
     "data": {
      "image/png": "[encoded data removed]",
      "text/plain": [
       "<matplotlib.figure.Figure at 0x7fcb7863ea58>"
      ]
     },
     "metadata": {},
     "output_type": "display_data"
    },
    {
     "name": "stdout",
     "output_type": "stream",
     "text": [
      "done\n"
     ]
    }
   ],
   "source": [
    "# # pickle results\n",
    "# with open('{0}/{1}'.format(filepath, filename), 'wb') as handle:\n",
    "#     pickle.dump(df_sc, handle)\n",
    "# plot results\n",
    "ax = sns.tsplot(data=df_cal, time='time', value='value', unit='sim')\n",
    "plt.title('{0}: <F> vs time ({1} Replicates)'.format(code, N_sims))\n",
    "plt.xlabel('Time (in generations)')\n",
    "plt.ylabel('Mean Fitness')\n",
    "plt.show()\n",
    "print('done')"
   ]
  },
  {
   "cell_type": "code",
   "execution_count": null,
   "metadata": {},
   "outputs": [],
   "source": [
    "# compare data to colorado code performance\n"
   ]
  }
 ],
 "metadata": {
  "kernelspec": {
   "display_name": "Python 3",
   "language": "python",
   "name": "python3"
  },
  "language_info": {
   "codemirror_mode": {
    "name": "ipython",
    "version": 3
   },
   "file_extension": ".py",
   "mimetype": "text/x-python",
   "name": "python",
   "nbconvert_exporter": "python",
   "pygments_lexer": "ipython3",
   "version": "3.5.2"
  }
 },
 "nbformat": 4,
 "nbformat_minor": 2
}
