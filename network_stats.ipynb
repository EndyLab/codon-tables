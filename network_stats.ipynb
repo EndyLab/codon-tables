{
 "cells": [
  {
   "cell_type": "code",
   "execution_count": 2,
   "metadata": {
    "collapsed": false
   },
   "outputs": [],
   "source": [
    "# import necessary modules\n",
    "import numpy as np\n",
    "import pandas as pd\n",
    "import matplotlib.pyplot as plt\n",
    "import networkx as nx\n",
    "from codonUtils import utils\n",
    "from codonoptimizer import MonteCarlo\n",
    "from codonTable import codonTable\n",
    "import bct\n",
    "import pickle\n",
    "%load_ext autoreload"
   ]
  },
  {
   "cell_type": "code",
   "execution_count": 2,
   "metadata": {
    "collapsed": false
   },
   "outputs": [
    {
     "name": "stdout",
     "output_type": "stream",
     "text": [
      "Help on class MonteCarlo in module codonoptimizer:\n",
      "\n",
      "class MonteCarlo(builtins.object)\n",
      " |  MonteCarlo: A class designed to optimize a codon table given an\n",
      " |  arbitrary objective function to minimize/maximize\n",
      " |  \n",
      " |  Methods defined here:\n",
      " |  \n",
      " |  GDA(self, dW=None, W=0, W_stop=inf, maxIter=1000, preserveBlock=False, preserveStop=False, subFunc='minPRS')\n",
      " |      The Great Deluge Algorithm for optimizing an objective function over\n",
      " |      codon table space\n",
      " |      \n",
      " |      Parameters\n",
      " |      ----------\n",
      " |      - float dW=None: represents the rate of change (rain flux) of min\n",
      " |          allowable energy (water level); if None, initialized to 1% of\n",
      " |          cost(self.table)\n",
      " |      - float W=0: represents the initial minimal acceptable energy level\n",
      " |          (water level); defaults to 0\n",
      " |      - float W_stop=inf: represents the maximum allowable water level; stops\n",
      " |          algorithm when W > W_stop; defaults to an infinte value\n",
      " |      - int maxIter=1000: represents the maximum number of iterations to\n",
      " |          perform; defaults to 1000\n",
      " |      - bool preserveBlock=False: a bool that tells the function whether or\n",
      " |          not to preserve block structure when shuffling the table\n",
      " |      - bool preserveStop=False: a bool that tells the function whether or not\n",
      " |          to shuffle blocks encoding for STOP\n",
      " |      - str subFunc: an optional parameter specifying the substitution metric\n",
      " |          to be used in maximization. Defaults to __sub_minPRS().\n",
      " |      \n",
      " |          Acceptable inputs:\n",
      " |          - 'minPRS' --> __sub_minPRS()\n",
      " |          - 'Gilis' --> __sub_Gilis()\n",
      " |          - 'SCV' --> __sub_SCV()\n",
      " |      \n",
      " |      Returns\n",
      " |      -------\n",
      " |      - dict table: a python dict representing an optimized codon table\n",
      " |      - np.array Ws: a numpy array representing water level vs iteration\n",
      " |      - np.array Es: a numpy array representing cost(table) vs iteration\n",
      " |  \n",
      " |  __init__(self, table={'AUU': 'I', 'UAA': '*', 'AGA': 'R', 'GUU': 'V', 'ACC': 'T', 'CCG': 'P', 'AGG': 'R', 'UGG': 'W', 'UAG': '*', 'GAU': 'D', 'UCA': 'S', 'AAU': 'N', 'ACG': 'T', 'AAA': 'K', 'GCU': 'A', 'CGA': 'R', 'AUC': 'I', 'UUU': 'F', 'CUA': 'L', 'GCA': 'A', 'UCC': 'S', 'AGC': 'S', 'CUC': 'L', 'CGG': 'R', 'GGU': 'G', 'CCA': 'P', 'UUG': 'L', 'UGU': 'C', 'AUA': 'I', 'UAU': 'Y', 'CAA': 'Q', 'AAG': 'K', 'UCG': 'S', 'ACU': 'T', 'CAU': 'H', 'CCU': 'P', 'CUG': 'L', 'GAC': 'D', 'CGC': 'R', 'UUC': 'F', 'GGA': 'G', 'GCC': 'A', 'GAG': 'E', 'GGC': 'G', 'GCG': 'A', 'GUA': 'V', 'UAC': 'Y', 'GAA': 'E', 'CCC': 'P', 'GGG': 'G', 'CUU': 'L', 'AAC': 'N', 'UGA': '*', 'CAC': 'H', 'UCU': 'S', 'CAG': 'Q', 'AUG': 'M', 'UUA': 'L', 'UGC': 'C', 'CGU': 'R', 'AGU': 'S', 'GUG': 'V', 'ACA': 'T', 'GUC': 'V'}, costfxn=None, wobble_rule='standard')\n",
      " |      the init function for the MonteCarlo class. Optionally allows the\n",
      " |      user to specify the starting codon table, associated objective\n",
      " |      function, and which wobble_rules should be followed. Default values are\n",
      " |      supplied if the user does not specify them (i.e. Standard Code, 47\n",
      " |      block wobble rule)\n",
      " |      \n",
      " |      Parameters\n",
      " |      ----------\n",
      " |      - dict table = utils.standardTable: a python dict representing the\n",
      " |          codon table. Also optionally accepts a codonTable object.\n",
      " |      - func costfxn = None: a function that takes a python dict as an\n",
      " |          input and outputs a cost associated with that table. If no\n",
      " |          funciton is supplied, defaults to maxMutMinVar.\n",
      " |      - str wobble_rule = 'standard': a string telling the simulator which\n",
      " |          wobble rules to follow for accepting new tablesi\n",
      " |      \n",
      " |          Acceptable inputs:\n",
      " |          - 'standard' : 48 blocks, 2 stop blocks\n",
      " |          - 'preserveBlock' : maintain same block structure as standard\n",
      " |              table\n",
      " |          - 'unrestricted' : 63 open blocks, at least 0 of every AA and\n",
      " |              stop.\n",
      " |      \n",
      " |      Returns\n",
      " |      -------\n",
      " |      MonteCarlo obj: returns an instance of the MonteCarlo object\n",
      " |  \n",
      " |  tableShuffle(self, table, preserveBlock=False, preserveStop=False)\n",
      " |      Takes a codon table as an input and shuffles it to produce a new,\n",
      " |          similar table in order to traverse table space.\n",
      " |      \n",
      " |      Parameters\n",
      " |      ----------\n",
      " |      - dict table: a python dict representing a codon table starting point\n",
      " |      - bool preserveBlock=False: a bool that tells the function whether or\n",
      " |          not to preserve block structure when shuffling the table\n",
      " |      - bool preserveStop=False: a bool that tells the function whether or not\n",
      " |          to shuffle blocks encoding for STOP\n",
      " |      Returns\n",
      " |      -------\n",
      " |      dict newTable: a python dict representing the next codon table\n",
      " |  \n",
      " |  ----------------------------------------------------------------------\n",
      " |  Static methods defined here:\n",
      " |  \n",
      " |  maxMutMinVar(table, subFunc)\n",
      " |      the default cost function for class. Implements a version of the\n",
      " |      cost function used by Novozhilov et al. 2007, but optimizes for\n",
      " |      maximizing mutability while minimizing variance per mutation\n",
      " |      \n",
      " |      Parameters\n",
      " |      ----------\n",
      " |      - dict table: a python dictionary representing the codon table to\n",
      " |          evaluate\n",
      " |      - func subFunc(str AA_1, str AA_2): a function representing the penalty\n",
      " |          for substituting two amino acids\n",
      " |      \n",
      " |      Returns\n",
      " |      -------\n",
      " |      float metric: the absolute number score of the given table\n",
      " |  \n",
      " |  ----------------------------------------------------------------------\n",
      " |  Data descriptors defined here:\n",
      " |  \n",
      " |  __dict__\n",
      " |      dictionary for instance variables (if defined)\n",
      " |  \n",
      " |  __weakref__\n",
      " |      list of weak references to the object (if defined)\n",
      "\n"
     ]
    }
   ],
   "source": [
    "help(MonteCarlo)"
   ]
  },
  {
   "cell_type": "markdown",
   "metadata": {},
   "source": [
    "## Gathering Statistics\n",
    "\n",
    "A set of adjacency matrices that preserve the degree, weight and strength distributions of the Standard Codon table graph were generated using bct.null_model_dir_sign() and used as a null model. A set of evolved tables were also generated and the densities of the resulting sets were compared."
   ]
  },
  {
   "cell_type": "code",
   "execution_count": 4,
   "metadata": {
    "collapsed": false
   },
   "outputs": [],
   "source": [
    "%autoreload 2\n",
    "# define number of trials to run\n",
    "N = 1000\n",
    "sim = MonteCarlo()\n",
    "# preallocate memory for statistics\n",
    "densities = np.zeros(N)\n",
    "efficiencies = np.zeros(N)\n",
    "clustCoeff = np.zeros(N)\n",
    "modularities = np.zeros(N)\n",
    "assortativities = np.zeros(N)\n",
    "# perform N trials\n",
    "for i in range(N):\n",
    "    # generage graph\n",
    "    ct, *dummy = sim.GDA(subFunc='SCV')\n",
    "    ct = codonTable(ct)\n",
    "    Cij = ct.adjMat\n",
    "    # calculate statistics\n",
    "    densities[i], *dummy = bct.density_und(Cij)\n",
    "    efficiencies[i] = bct.efficiency_wei(Cij)\n",
    "    clustCoeff[i], *dummy = bct.clustering_coef_wu(Cij)\n",
    "    dummy, modularities[i] = bct.modularity_und(Cij)\n",
    "    assortativities[i] = bct.assortativity_wei(Cij, 0)"
   ]
  },
  {
   "cell_type": "code",
   "execution_count": 5,
   "metadata": {
    "collapsed": false
   },
   "outputs": [],
   "source": [
    "# pickle resulting statistics so they don't have to be re calculated\n",
    "stats = [densities, efficiencies, clustCoeff, modularities, assortativities]\n",
    "with open('res/SCV.pickle', 'wb') as handle:\n",
    "    pickle.dump(stats, handle)"
   ]
  },
  {
   "cell_type": "code",
   "execution_count": 13,
   "metadata": {
    "collapsed": false
   },
   "outputs": [
    {
     "name": "stderr",
     "output_type": "stream",
     "text": [
      "/home/jon/.local/lib/python3.5/site-packages/numpy/lib/function_base.py:3162: RuntimeWarning: invalid value encountered in true_divide\n",
      "  c /= stddev[:, None]\n",
      "/home/jon/Dropbox/Lab/Arbitrary Translational Decoding/codon-tables/bctpy/bctpy-master/bct/algorithms/reference.py:1024: RuntimeWarning: divide by zero encountered in double_scalars\n",
      "  f = 1 - Wv[r] / S[j[o]]\n",
      "/home/jon/Dropbox/Lab/Arbitrary Translational Decoding/codon-tables/bctpy/bctpy-master/bct/algorithms/reference.py:1025: RuntimeWarning: invalid value encountered in multiply\n",
      "  P[j[o], :] *= f\n",
      "/home/jon/Dropbox/Lab/Arbitrary Translational Decoding/codon-tables/bctpy/bctpy-master/bct/algorithms/reference.py:1026: RuntimeWarning: invalid value encountered in multiply\n",
      "  P[:, j[o]] *= f\n",
      "/home/jon/Dropbox/Lab/Arbitrary Translational Decoding/codon-tables/bctpy/bctpy-master/bct/algorithms/reference.py:1021: RuntimeWarning: divide by zero encountered in double_scalars\n",
      "  f = 1 - Wv[r] / S[i[o]]\n",
      "/home/jon/Dropbox/Lab/Arbitrary Translational Decoding/codon-tables/bctpy/bctpy-master/bct/algorithms/reference.py:1022: RuntimeWarning: invalid value encountered in multiply\n",
      "  P[i[o], :] *= f\n",
      "/home/jon/Dropbox/Lab/Arbitrary Translational Decoding/codon-tables/bctpy/bctpy-master/bct/algorithms/reference.py:1023: RuntimeWarning: invalid value encountered in multiply\n",
      "  P[:, i[o]] *= f\n"
     ]
    }
   ],
   "source": [
    "## Null Models\n",
    "%autoreload 2\n",
    "# define number of adjMats to generate\n",
    "N = 10000\n",
    "# get standard table\n",
    "ct = codonTable()\n",
    "C_st = ct.adjMat\n",
    "# preallocate memory for statistics\n",
    "null_densities = np.zeros(N)\n",
    "null_efficiencies = np.zeros(N)\n",
    "null_clustCoeff = np.zeros(N)\n",
    "null_modularities = np.zeros(N)\n",
    "null_assortativities = np.zeros(N)\n",
    "# perform N trials\n",
    "for i in range(N):\n",
    "    # generate new null graph\n",
    "    Cij, *dummy = bct.null_model_und_sign(C_st)\n",
    "    # calculate statistics\n",
    "    null_densities[i], *dummy = bct.density_und(Cij)\n",
    "    null_efficiencies[i] = bct.efficiency_wei(Cij)\n",
    "    null_clustCoeff[i], *dummy = bct.clustering_coef_wu(Cij)\n",
    "    dummy, null_modularities[i] = bct.modularity_und(Cij)\n",
    "    null_assortativities[i] = bct.assortativity_wei(Cij, 0)"
   ]
  },
  {
   "cell_type": "code",
   "execution_count": 15,
   "metadata": {
    "collapsed": false
   },
   "outputs": [],
   "source": [
    "# pickle resulting statistics so they don't have to be re calculated\n",
    "stats = [null_densities, null_efficiencies, null_clustCoeff, null_modularities, null_assortativities]\n",
    "with open('res/null.pickle', 'wb') as handle:\n",
    "    pickle.dump(stats, handle)"
   ]
  },
  {
   "cell_type": "code",
   "execution_count": 19,
   "metadata": {
    "collapsed": false
   },
   "outputs": [],
   "source": [
    "## Visualize the data!!\n",
    "\n",
    "# unpickle data\n",
    "with open('res/minPRS.pickle', 'rb') as handle:\n",
    "    PRS_densities, PRS_efficiencies, PRS_clustCoeff, PRS_modularities, PRS_assortativities  = pickle.load(handle)\n",
    "\n",
    "with open('res/Gilis.pickle', 'rb') as handle:\n",
    "    Gilis_densities, Gilis_efficiencies, Gilis_clustCoeff, Gilis_modularities, Gilis_assortativities  = pickle.load(handle)\n",
    "\n",
    "with open('res/SCV.pickle', 'rb') as handle:\n",
    "    SCV_densities, SCV_efficiencies, SCV_clustCoeff, SCV_modularities, SCV_assortativities  = pickle.load(handle)\n",
    "\n",
    "with open('res/null.pickle', 'rb') as handle:\n",
    "    null_densities, null_efficiencies, null_clustCoeff, null_modularities, null_assortativities  = pickle.load(handle)"
   ]
  },
  {
   "cell_type": "markdown",
   "metadata": {},
   "source": [
    "## Densities"
   ]
  },
  {
   "cell_type": "code",
   "execution_count": 53,
   "metadata": {
    "collapsed": false
   },
   "outputs": [
    {
     "data": {
      "image/png": "[encoded data removed]",
      "text/plain": [
       "<matplotlib.figure.Figure at 0x7fabd24bdfd0>"
      ]
     },
     "metadata": {},
     "output_type": "display_data"
    }
   ],
   "source": [
    "fig, axarr = plt.subplots(4, sharex=True)\n",
    "axarr[0].hist(null_densities, 20, color='grey', alpha=0.5, normed=True, label='Null')\n",
    "axarr[1].hist(PRS_densities, 20, color='red', alpha=0.5, normed=True, label='PRS')\n",
    "axarr[2].hist(Gilis_densities, 20, color='green', alpha=0.5, normed=True, label='Gilis')\n",
    "axarr[3].hist(SCV_densities, 20, color='blue', alpha=0.5, normed=True, label='SCV')\n",
    "fig.suptitle('Histogram of Densities')\n",
    "for i in range(4):\n",
    "    h, l = axarr[i].get_legend_handles_labels()\n",
    "    axarr[i].legend(h, l)\n",
    "plt.xlabel('Density')\n",
    "plt.show()"
   ]
  },
  {
   "cell_type": "markdown",
   "metadata": {},
   "source": [
    "## Efficiencies"
   ]
  },
  {
   "cell_type": "code",
   "execution_count": 51,
   "metadata": {
    "collapsed": false
   },
   "outputs": [
    {
     "data": {
      "image/png": "[encoded data removed]",
      "text/plain": [
       "<matplotlib.figure.Figure at 0x7fabd329d0b8>"
      ]
     },
     "metadata": {},
     "output_type": "display_data"
    }
   ],
   "source": [
    "fig, axarr = plt.subplots(4, sharex=True)\n",
    "axarr[0].hist(null_efficiencies, 50, color='grey', alpha=0.5, normed=True, label='Null')\n",
    "axarr[1].hist(PRS_efficiencies, 50, color='red', alpha=0.5, normed=True, label='PRS')\n",
    "axarr[2].hist(Gilis_efficiencies, 50, color='green', alpha=0.5, normed=True, label='Gilis')\n",
    "axarr[3].hist(SCV_efficiencies, 50, color='blue', alpha=0.5, normed=True, label='SCV')\n",
    "fig.suptitle('Histogram of Efficiencies')\n",
    "for i in range(4):\n",
    "    h, l = axarr[i].get_legend_handles_labels()\n",
    "    axarr[i].legend(h, l)\n",
    "plt.xlabel('Efficiency')\n",
    "plt.show()"
   ]
  },
  {
   "cell_type": "markdown",
   "metadata": {},
   "source": [
    "## Clustering Coefficients"
   ]
  },
  {
   "cell_type": "code",
   "execution_count": 55,
   "metadata": {
    "collapsed": false
   },
   "outputs": [
    {
     "data": {
      "image/png": "[encoded data removed]",
      "text/plain": [
       "<matplotlib.figure.Figure at 0x7fabd2777e80>"
      ]
     },
     "metadata": {},
     "output_type": "display_data"
    }
   ],
   "source": [
    "fig, axarr = plt.subplots(4, sharex=True)\n",
    "axarr[0].hist(null_clustCoeff, 50, color='grey', alpha=0.5, normed=True, label='Null')\n",
    "axarr[1].hist(PRS_clustCoeff, 50, color='red', alpha=0.5, normed=True, label='PRS')\n",
    "axarr[2].hist(Gilis_clustCoeff, 50, color='green', alpha=0.5, normed=True, label='Gilis')\n",
    "axarr[3].hist(SCV_clustCoeff, 50, color='blue', alpha=0.5, normed=True, label='SCV')\n",
    "\n",
    "fig.suptitle('Histogram of Clustering Coefficients')\n",
    "for i in range(4):\n",
    "    h, l = axarr[i].get_legend_handles_labels()\n",
    "    axarr[i].legend(h, l)\n",
    "plt.xlabel('Clustering Coefficient')\n",
    "plt.show()"
   ]
  },
  {
   "cell_type": "markdown",
   "metadata": {},
   "source": [
    "## Modularities"
   ]
  },
  {
   "cell_type": "code",
   "execution_count": 56,
   "metadata": {
    "collapsed": false
   },
   "outputs": [
    {
     "data": {
      "image/png": "[encoded data removed]",
      "text/plain": [
       "<matplotlib.figure.Figure at 0x7fabd3342320>"
      ]
     },
     "metadata": {},
     "output_type": "display_data"
    }
   ],
   "source": [
    "fig, axarr = plt.subplots(4, sharex=True)\n",
    "axarr[0].hist(null_modularities, 50, color='grey', alpha=0.5, normed=True, label='Null')\n",
    "axarr[1].hist(PRS_modularities, 50, color='red', alpha=0.5, normed=True, label='PRS')\n",
    "axarr[2].hist(Gilis_modularities, 50, color='green', alpha=0.5, normed=True, label='Gilis')\n",
    "axarr[3].hist(SCV_modularities, 50, color='blue', alpha=0.5, normed=True, label='SCV')\n",
    "\n",
    "fig.suptitle('Histogram of Modularities')\n",
    "for i in range(4):\n",
    "    h, l = axarr[i].get_legend_handles_labels()\n",
    "    axarr[i].legend(h, l)\n",
    "plt.xlabel('Modularity Metric')\n",
    "plt.show()"
   ]
  },
  {
   "cell_type": "markdown",
   "metadata": {},
   "source": [
    "## Assortativities"
   ]
  },
  {
   "cell_type": "code",
   "execution_count": 58,
   "metadata": {
    "collapsed": false
   },
   "outputs": [
    {
     "data": {
      "image/png": "[encoded data removed]",
      "text/plain": [
       "<matplotlib.figure.Figure at 0x7fabd31b4f28>"
      ]
     },
     "metadata": {},
     "output_type": "display_data"
    }
   ],
   "source": [
    "fig, axarr = plt.subplots(4, sharex=True)\n",
    "axarr[0].hist(null_assortativities, 50, color='grey', alpha=0.5, normed=True, label='Null')\n",
    "axarr[1].hist(PRS_assortativities, 50, color='red', alpha=0.5, normed=True, label='PRS')\n",
    "axarr[2].hist(Gilis_assortativities, 50, color='green', alpha=0.5, normed=True, label='Gilis')\n",
    "axarr[3].hist(SCV_assortativities, 50, color='blue', alpha=0.5, normed=True, label='SCV')\n",
    "\n",
    "fig.suptitle('Histogram of Assortativities')\n",
    "for i in range(4):\n",
    "    h, l = axarr[i].get_legend_handles_labels()\n",
    "    axarr[i].legend(h, l)\n",
    "plt.xlabel('Assortativity')\n",
    "plt.show()"
   ]
  }
 ],
 "metadata": {
  "kernelspec": {
   "display_name": "Python 3",
   "language": "python",
   "name": "python3"
  },
  "language_info": {
   "codemirror_mode": {
    "name": "ipython",
    "version": 3
   },
   "file_extension": ".py",
   "mimetype": "text/x-python",
   "name": "python",
   "nbconvert_exporter": "python",
   "pygments_lexer": "ipython3",
   "version": "3.5.3"
  }
 },
 "nbformat": 4,
 "nbformat_minor": 2
}
