{
 "cells": [
  {
   "cell_type": "code",
   "execution_count": 6,
   "metadata": {
    "collapsed": true
   },
   "outputs": [],
   "source": [
    "import numpy as np\n",
    "from scipy.interpolate import interp1d as interp\n",
    "import pandas as pd\n",
    "import seaborn as sns\n",
    "import matplotlib.pyplot as plt\n",
    "from tqdm import tqdm\n",
    "from thunderflask import thunderflask\n",
    "from bacteria import strain\n",
    "from ffgen import ffgen\n",
    "from codonTable import codonTable\n",
    "from codonUtils import utils\n",
    "from bacteria import strain\n",
    "from ffgen import ffgen\n",
    "import pickle\n",
    "from codonOptimizer import tableOptimizer\n",
    "from queue import Queue as queue\n",
    "from random import choice\n",
    "from matplotlib.colors import LinearSegmentedColormap as LSC\n",
    "from mpl_toolkits.mplot3d import Axes3D\n",
    "from mpl_toolkits.axes_grid1 import make_axes_locatable\n",
    "import cProfile\n",
    "import copy"
   ]
  },
  {
   "cell_type": "code",
   "execution_count": 8,
   "metadata": {},
   "outputs": [
    {
     "data": {
      "text/plain": [
       "{'AAA': 'K',\n",
       " 'AAC': 'N',\n",
       " 'AAG': 'K',\n",
       " 'AAU': 'N',\n",
       " 'ACA': 'T',\n",
       " 'ACC': 'T',\n",
       " 'ACG': 'T',\n",
       " 'ACU': 'T',\n",
       " 'AGA': 'R',\n",
       " 'AGC': 'S',\n",
       " 'AGG': 'R',\n",
       " 'AGU': 'S',\n",
       " 'AUA': 'I',\n",
       " 'AUC': 'I',\n",
       " 'AUG': 'M',\n",
       " 'AUU': 'I',\n",
       " 'CAA': 'Q',\n",
       " 'CAC': 'H',\n",
       " 'CAG': 'Q',\n",
       " 'CAU': 'H',\n",
       " 'CCA': 'P',\n",
       " 'CCC': 'P',\n",
       " 'CCG': 'P',\n",
       " 'CCU': 'P',\n",
       " 'CGA': 'R',\n",
       " 'CGC': 'R',\n",
       " 'CGG': 'R',\n",
       " 'CGU': 'R',\n",
       " 'CUA': 'L',\n",
       " 'CUC': 'L',\n",
       " 'CUG': 'L',\n",
       " 'CUU': 'L',\n",
       " 'GAA': 'E',\n",
       " 'GAC': 'D',\n",
       " 'GAG': 'E',\n",
       " 'GAU': 'D',\n",
       " 'GCA': 'A',\n",
       " 'GCC': 'A',\n",
       " 'GCG': 'A',\n",
       " 'GCU': 'A',\n",
       " 'GGA': 'G',\n",
       " 'GGC': 'G',\n",
       " 'GGG': 'G',\n",
       " 'GGU': 'G',\n",
       " 'GUA': 'V',\n",
       " 'GUC': 'V',\n",
       " 'GUG': 'V',\n",
       " 'GUU': 'V',\n",
       " 'UAA': '*',\n",
       " 'UAC': 'Y',\n",
       " 'UAG': '*',\n",
       " 'UAU': 'Y',\n",
       " 'UCA': 'S',\n",
       " 'UCC': 'S',\n",
       " 'UCG': 'S',\n",
       " 'UCU': 'S',\n",
       " 'UGA': '*',\n",
       " 'UGC': 'C',\n",
       " 'UGG': 'W',\n",
       " 'UGU': 'C',\n",
       " 'UUA': 'L',\n",
       " 'UUC': 'F',\n",
       " 'UUG': 'L',\n",
       " 'UUU': 'F'}"
      ]
     },
     "execution_count": 8,
     "metadata": {},
     "output_type": "execute_result"
    }
   ],
   "source": [
    "filename='reductiondict2.pickle'\n",
    "rc = copy.deepcopy(utils.standardTable)\n",
    "rc"
   ]
  },
  {
   "cell_type": "code",
   "execution_count": 18,
   "metadata": {},
   "outputs": [
    {
     "data": {
      "text/plain": [
       "{'*': 3,\n",
       " 'A': 4,\n",
       " 'C': 2,\n",
       " 'D': 2,\n",
       " 'E': 2,\n",
       " 'F': 2,\n",
       " 'G': 4,\n",
       " 'H': 2,\n",
       " 'I': 3,\n",
       " 'K': 2,\n",
       " 'L': 6,\n",
       " 'M': 1,\n",
       " 'N': 2,\n",
       " 'P': 4,\n",
       " 'Q': 2,\n",
       " 'R': 6,\n",
       " 'S': 6,\n",
       " 'T': 4,\n",
       " 'V': 4,\n",
       " 'W': 1,\n",
       " 'Y': 2}"
      ]
     },
     "execution_count": 18,
     "metadata": {},
     "output_type": "execute_result"
    }
   ],
   "source": [
    "utils.getAAcounts(rc)"
   ]
  },
  {
   "cell_type": "code",
   "execution_count": 20,
   "metadata": {},
   "outputs": [
    {
     "data": {
      "text/plain": [
       "{'*': 3,\n",
       " 'A': 4,\n",
       " 'C': 2,\n",
       " 'D': 2,\n",
       " 'E': 2,\n",
       " 'F': 2,\n",
       " 'G': 4,\n",
       " 'H': 2,\n",
       " 'I': 3,\n",
       " 'K': 2,\n",
       " 'L': 6,\n",
       " 'M': 1,\n",
       " 'N': 2,\n",
       " 'P': 4,\n",
       " 'Q': 2,\n",
       " 'R': 6,\n",
       " 'S': 6,\n",
       " 'T': 4,\n",
       " 'V': 4,\n",
       " 'W': 1,\n",
       " 'Y': 2}"
      ]
     },
     "execution_count": 20,
     "metadata": {},
     "output_type": "execute_result"
    }
   ],
   "source": [
    "utils.getBlockCounts(rc)"
   ]
  },
  {
   "cell_type": "code",
   "execution_count": 21,
   "metadata": {},
   "outputs": [
    {
     "ename": "KeyError",
     "evalue": "24",
     "output_type": "error",
     "traceback": [
      "\u001b[0;31m---------------------------------------------------------------------------\u001b[0m",
      "\u001b[0;31mKeyError\u001b[0m                                  Traceback (most recent call last)",
      "\u001b[0;32m<ipython-input-21-3c798b4c5b9c>\u001b[0m in \u001b[0;36m<module>\u001b[0;34m()\u001b[0m\n\u001b[0;32m----> 1\u001b[0;31m \u001b[0mrc\u001b[0m\u001b[0;34m[\u001b[0m\u001b[0;36m24\u001b[0m\u001b[0;34m]\u001b[0m\u001b[0;34m\u001b[0m\u001b[0m\n\u001b[0m",
      "\u001b[0;31mKeyError\u001b[0m: 24"
     ]
    }
   ],
   "source": [
    "rc[24]"
   ]
  },
  {
   "cell_type": "code",
   "execution_count": 22,
   "metadata": {},
   "outputs": [
    {
     "name": "stdout",
     "output_type": "stream",
     "text": [
      "dict_keys(['UUU', 'UUC', 'UUA', 'UUG', 'UCU', 'UCC', 'UCA', 'UCG', 'UAU', 'UAC', 'UGU', 'UGC', 'UGG', 'CUU', 'CUC', 'CUA', 'CUG', 'CCU', 'CCC', 'CCA', 'CCG', 'CAU', 'CAC', 'CAA', 'CAG', 'CGU', 'CGC', 'CGA', 'CGG', 'AUU', 'AUC', 'AUA', 'AUG', 'ACU', 'ACC', 'ACA', 'ACG', 'AAU', 'AAC', 'AAA', 'AAG', 'AGU', 'AGC', 'AGA', 'AGG', 'GUU', 'GUC', 'GUA', 'GUG', 'GCU', 'GCC', 'GCA', 'GCG', 'GAU', 'GAC', 'GAA', 'GAG', 'GGU', 'GGC', 'GGA', 'GGG', 'UAA', 'UAG', 'UGA'])\n"
     ]
    }
   ],
   "source": [
    "print(rc.keys())"
   ]
  },
  {
   "cell_type": "code",
   "execution_count": 23,
   "metadata": {},
   "outputs": [
    {
     "name": "stdout",
     "output_type": "stream",
     "text": [
      "dict_values(['F', 'F', 'L', 'L', 'S', 'S', 'S', 'S', 'Y', 'Y', 'C', 'C', 'W', 'L', 'L', 'L', 'L', 'P', 'P', 'P', 'P', 'H', 'H', 'Q', 'Q', 'R', 'R', 'R', 'R', 'I', 'I', 'I', 'M', 'T', 'T', 'T', 'T', 'N', 'N', 'K', 'K', 'S', 'S', 'R', 'R', 'V', 'V', 'V', 'V', 'A', 'A', 'A', 'A', 'D', 'D', 'E', 'E', 'G', 'G', 'G', 'G', '*', '*', '*'])\n"
     ]
    }
   ],
   "source": [
    "print(rc.values())"
   ]
  },
  {
   "cell_type": "code",
   "execution_count": null,
   "metadata": {
    "collapsed": true
   },
   "outputs": [],
   "source": [
    "#need to assign a block structure based on AA to codons, iterate for each block and remove all but one. "
   ]
  }
 ],
 "metadata": {
  "kernelspec": {
   "display_name": "Python 3",
   "language": "python",
   "name": "python3"
  },
  "language_info": {
   "codemirror_mode": {
    "name": "ipython",
    "version": 3
   },
   "file_extension": ".py",
   "mimetype": "text/x-python",
   "name": "python",
   "nbconvert_exporter": "python",
   "pygments_lexer": "ipython3",
   "version": "3.6.3"
  }
 },
 "nbformat": 4,
 "nbformat_minor": 2
}
